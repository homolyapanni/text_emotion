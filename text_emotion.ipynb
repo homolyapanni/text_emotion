{
 "cells": [
  {
   "cell_type": "code",
   "execution_count": 69,
   "metadata": {
    "colab": {
     "base_uri": "https://localhost:8080/"
    },
    "executionInfo": {
     "elapsed": 10640,
     "status": "ok",
     "timestamp": 1612534140355,
     "user": {
      "displayName": "Panni Homolya",
      "photoUrl": "",
      "userId": "16634482512117413254"
     },
     "user_tz": -60
    },
    "id": "SBYWqmMEY2zu",
    "outputId": "698e42af-c41b-4390-9434-f15e64795591"
   },
   "outputs": [],
   "source": [
    "import os\n",
    "\n",
    "import pandas as pd\n",
    "import seaborn as sns\n",
    "import matplotlib.pyplot as plt\n",
    "\n",
    "import nltk\n",
    "import emoji\n",
    "import preprocessor as p\n",
    "import re\n",
    "\n",
    "from nltk.stem.snowball import SnowballStemmer \n",
    "\n",
    "from collections import Counter\n",
    "\n",
    "from sklearn.model_selection import train_test_split\n",
    "from sklearn.model_selection import cross_val_score\n",
    "from sklearn import metrics\n",
    "from sklearn.metrics import classification_report, confusion_matrix\n",
    "\n",
    "from sklearn.preprocessing import StandardScaler\n",
    "from sklearn.preprocessing import LabelEncoder\n",
    "from tqdm import tqdm\n",
    "\n",
    "from sklearn.neighbors import KNeighborsClassifier\n",
    "from sklearn.tree import DecisionTreeClassifier\n",
    "from sklearn import tree\n",
    "\n",
    "from sklearn import ensemble\n",
    "from sklearn.ensemble import RandomForestClassifier\n",
    "\n",
    "from sklearn.linear_model import LogisticRegression\n",
    "\n",
    "from sklearn import svm\n",
    "\n",
    "from sklearn.naive_bayes import MultinomialNB\n",
    "\n",
    "from sklearn.feature_extraction.text import CountVectorizer\n",
    "from sklearn.feature_extraction.text import TfidfVectorizer\n",
    "from sklearn.feature_extraction.text import TfidfTransformer\n",
    "\n",
    "from imblearn.over_sampling import SMOTE\n",
    "\n",
    "import scipy.sparse\n",
    "\n",
    "from wordcloud import WordCloud"
   ]
  },
  {
   "cell_type": "markdown",
   "metadata": {},
   "source": [
    "# Read the data"
   ]
  },
  {
   "cell_type": "code",
   "execution_count": 2,
   "metadata": {},
   "outputs": [],
   "source": [
    "def read_data(path): # file read\n",
    "    \n",
    "    read= os.listdir(path)\n",
    "    \n",
    "    for r in read:\n",
    "        if r.endswith(\".csv\"):\n",
    "            file=r\n",
    "            \n",
    "    df = pd.read_csv(file)\n",
    "    \n",
    "    return df\n",
    "    "
   ]
  },
  {
   "cell_type": "code",
   "execution_count": 3,
   "metadata": {},
   "outputs": [
    {
     "data": {
      "text/html": [
       "<div>\n",
       "<style scoped>\n",
       "    .dataframe tbody tr th:only-of-type {\n",
       "        vertical-align: middle;\n",
       "    }\n",
       "\n",
       "    .dataframe tbody tr th {\n",
       "        vertical-align: top;\n",
       "    }\n",
       "\n",
       "    .dataframe thead th {\n",
       "        text-align: right;\n",
       "    }\n",
       "</style>\n",
       "<table border=\"1\" class=\"dataframe\">\n",
       "  <thead>\n",
       "    <tr style=\"text-align: right;\">\n",
       "      <th></th>\n",
       "      <th>tweet_id</th>\n",
       "      <th>sentiment</th>\n",
       "      <th>author</th>\n",
       "      <th>content</th>\n",
       "    </tr>\n",
       "  </thead>\n",
       "  <tbody>\n",
       "    <tr>\n",
       "      <td>0</td>\n",
       "      <td>1956967341</td>\n",
       "      <td>empty</td>\n",
       "      <td>xoshayzers</td>\n",
       "      <td>@tiffanylue i know  i was listenin to bad habi...</td>\n",
       "    </tr>\n",
       "    <tr>\n",
       "      <td>1</td>\n",
       "      <td>1956967666</td>\n",
       "      <td>sadness</td>\n",
       "      <td>wannamama</td>\n",
       "      <td>Layin n bed with a headache  ughhhh...waitin o...</td>\n",
       "    </tr>\n",
       "    <tr>\n",
       "      <td>2</td>\n",
       "      <td>1956967696</td>\n",
       "      <td>sadness</td>\n",
       "      <td>coolfunky</td>\n",
       "      <td>Funeral ceremony...gloomy friday...</td>\n",
       "    </tr>\n",
       "    <tr>\n",
       "      <td>3</td>\n",
       "      <td>1956967789</td>\n",
       "      <td>enthusiasm</td>\n",
       "      <td>czareaquino</td>\n",
       "      <td>wants to hang out with friends SOON!</td>\n",
       "    </tr>\n",
       "    <tr>\n",
       "      <td>4</td>\n",
       "      <td>1956968416</td>\n",
       "      <td>neutral</td>\n",
       "      <td>xkilljoyx</td>\n",
       "      <td>@dannycastillo We want to trade with someone w...</td>\n",
       "    </tr>\n",
       "    <tr>\n",
       "      <td>...</td>\n",
       "      <td>...</td>\n",
       "      <td>...</td>\n",
       "      <td>...</td>\n",
       "      <td>...</td>\n",
       "    </tr>\n",
       "    <tr>\n",
       "      <td>39995</td>\n",
       "      <td>1753918954</td>\n",
       "      <td>neutral</td>\n",
       "      <td>showMe_Heaven</td>\n",
       "      <td>@JohnLloydTaylor</td>\n",
       "    </tr>\n",
       "    <tr>\n",
       "      <td>39996</td>\n",
       "      <td>1753919001</td>\n",
       "      <td>love</td>\n",
       "      <td>drapeaux</td>\n",
       "      <td>Happy Mothers Day  All my love</td>\n",
       "    </tr>\n",
       "    <tr>\n",
       "      <td>39997</td>\n",
       "      <td>1753919005</td>\n",
       "      <td>love</td>\n",
       "      <td>JenniRox</td>\n",
       "      <td>Happy Mother's Day to all the mommies out ther...</td>\n",
       "    </tr>\n",
       "    <tr>\n",
       "      <td>39998</td>\n",
       "      <td>1753919043</td>\n",
       "      <td>happiness</td>\n",
       "      <td>ipdaman1</td>\n",
       "      <td>@niariley WASSUP BEAUTIFUL!!! FOLLOW ME!!  PEE...</td>\n",
       "    </tr>\n",
       "    <tr>\n",
       "      <td>39999</td>\n",
       "      <td>1753919049</td>\n",
       "      <td>love</td>\n",
       "      <td>Alpharalpha</td>\n",
       "      <td>@mopedronin bullet train from tokyo    the gf ...</td>\n",
       "    </tr>\n",
       "  </tbody>\n",
       "</table>\n",
       "<p>40000 rows × 4 columns</p>\n",
       "</div>"
      ],
      "text/plain": [
       "         tweet_id   sentiment         author  \\\n",
       "0      1956967341       empty     xoshayzers   \n",
       "1      1956967666     sadness      wannamama   \n",
       "2      1956967696     sadness      coolfunky   \n",
       "3      1956967789  enthusiasm    czareaquino   \n",
       "4      1956968416     neutral      xkilljoyx   \n",
       "...           ...         ...            ...   \n",
       "39995  1753918954     neutral  showMe_Heaven   \n",
       "39996  1753919001        love       drapeaux   \n",
       "39997  1753919005        love       JenniRox   \n",
       "39998  1753919043   happiness       ipdaman1   \n",
       "39999  1753919049        love    Alpharalpha   \n",
       "\n",
       "                                                 content  \n",
       "0      @tiffanylue i know  i was listenin to bad habi...  \n",
       "1      Layin n bed with a headache  ughhhh...waitin o...  \n",
       "2                    Funeral ceremony...gloomy friday...  \n",
       "3                   wants to hang out with friends SOON!  \n",
       "4      @dannycastillo We want to trade with someone w...  \n",
       "...                                                  ...  \n",
       "39995                                   @JohnLloydTaylor  \n",
       "39996                     Happy Mothers Day  All my love  \n",
       "39997  Happy Mother's Day to all the mommies out ther...  \n",
       "39998  @niariley WASSUP BEAUTIFUL!!! FOLLOW ME!!  PEE...  \n",
       "39999  @mopedronin bullet train from tokyo    the gf ...  \n",
       "\n",
       "[40000 rows x 4 columns]"
      ]
     },
     "execution_count": 3,
     "metadata": {},
     "output_type": "execute_result"
    }
   ],
   "source": [
    "path=r\"C:\\\\Users\\\\PANNI\\\\Szakdoga\"\n",
    "text_sentiment=read_data(path)\n",
    "text_sentiment"
   ]
  },
  {
   "cell_type": "markdown",
   "metadata": {
    "id": "RLa4KHkoSzVo"
   },
   "source": [
    "# Examination of the data"
   ]
  },
  {
   "cell_type": "code",
   "execution_count": 4,
   "metadata": {
    "colab": {
     "base_uri": "https://localhost:8080/"
    },
    "executionInfo": {
     "elapsed": 33891,
     "status": "ok",
     "timestamp": 1612534215120,
     "user": {
      "displayName": "Panni Homolya",
      "photoUrl": "",
      "userId": "16634482512117413254"
     },
     "user_tz": -60
    },
    "id": "mRqG2pQvY2z9",
    "outputId": "209264ee-8f54-4b8a-e6e7-0b4cfee9623c"
   },
   "outputs": [
    {
     "data": {
      "text/plain": [
       "array([ 2, 10, 10, ...,  7,  5,  7])"
      ]
     },
     "execution_count": 4,
     "metadata": {},
     "output_type": "execute_result"
    }
   ],
   "source": [
    "label=text_sentiment[\"sentiment\"]\n",
    "labelencoder = LabelEncoder() # string labels convert to numbers\n",
    "num_label=labelencoder.fit_transform(label)\n",
    "num_label"
   ]
  },
  {
   "cell_type": "code",
   "execution_count": 5,
   "metadata": {
    "colab": {
     "base_uri": "https://localhost:8080/"
    },
    "executionInfo": {
     "elapsed": 32867,
     "status": "ok",
     "timestamp": 1612534215123,
     "user": {
      "displayName": "Panni Homolya",
      "photoUrl": "",
      "userId": "16634482512117413254"
     },
     "user_tz": -60
    },
    "id": "FkoEfZgusAzA",
    "outputId": "24ca6952-208e-46a7-a4b9-c0f8c7f3926a"
   },
   "outputs": [
    {
     "data": {
      "text/plain": [
       "['anger',\n",
       " 'boredom',\n",
       " 'empty',\n",
       " 'enthusiasm',\n",
       " 'fun',\n",
       " 'happiness',\n",
       " 'hate',\n",
       " 'love',\n",
       " 'neutral',\n",
       " 'relief',\n",
       " 'sadness',\n",
       " 'surprise',\n",
       " 'worry']"
      ]
     },
     "execution_count": 5,
     "metadata": {},
     "output_type": "execute_result"
    }
   ],
   "source": [
    "label_classes=list(labelencoder.classes_)\n",
    "label_classes"
   ]
  },
  {
   "cell_type": "code",
   "execution_count": 6,
   "metadata": {
    "colab": {
     "base_uri": "https://localhost:8080/",
     "height": 265
    },
    "executionInfo": {
     "elapsed": 666,
     "status": "ok",
     "timestamp": 1612534215803,
     "user": {
      "displayName": "Panni Homolya",
      "photoUrl": "",
      "userId": "16634482512117413254"
     },
     "user_tz": -60
    },
    "id": "6lv1nubpTWwO",
    "outputId": "2206384b-339d-41ac-89f9-dda259f7116c"
   },
   "outputs": [
    {
     "data": {
      "image/png": "[encoded data removed]",
      "text/plain": [
       "<Figure size 432x288 with 1 Axes>"
      ]
     },
     "metadata": {
      "needs_background": "light"
     },
     "output_type": "display_data"
    }
   ],
   "source": [
    "counter = Counter(num_label)  # information about classes\n",
    "\n",
    "plt.bar(counter.keys(), counter.values())\n",
    "plt.show()"
   ]
  },
  {
   "cell_type": "markdown",
   "metadata": {
    "id": "1UggZEFhWvUi"
   },
   "source": [
    "# Pre-processing"
   ]
  },
  {
   "cell_type": "code",
   "execution_count": 7,
   "metadata": {
    "executionInfo": {
     "elapsed": 664,
     "status": "ok",
     "timestamp": 1612534215807,
     "user": {
      "displayName": "Panni Homolya",
      "photoUrl": "",
      "userId": "16634482512117413254"
     },
     "user_tz": -60
    },
    "id": "fpn8QGbsS7-i"
   },
   "outputs": [],
   "source": [
    "def tweet_clean(text):\n",
    "    data=[]\n",
    "    \n",
    "    for i in text:\n",
    "        data.append(p.clean(i)) # hastag, url,emoji ect remove\n",
    "        \n",
    "    return data"
   ]
  },
  {
   "cell_type": "code",
   "execution_count": 8,
   "metadata": {
    "executionInfo": {
     "elapsed": 4492,
     "status": "ok",
     "timestamp": 1612534219638,
     "user": {
      "displayName": "Panni Homolya",
      "photoUrl": "",
      "userId": "16634482512117413254"
     },
     "user_tz": -60
    },
    "id": "_THk76CqXxG4"
   },
   "outputs": [],
   "source": [
    "tweet=tweet_clean(text_sentiment[\"content\"])"
   ]
  },
  {
   "cell_type": "code",
   "execution_count": 9,
   "metadata": {
    "executionInfo": {
     "elapsed": 4491,
     "status": "ok",
     "timestamp": 1612534219640,
     "user": {
      "displayName": "Panni Homolya",
      "photoUrl": "",
      "userId": "16634482512117413254"
     },
     "user_tz": -60
    },
    "id": "EKqCONKOrXJc"
   },
   "outputs": [],
   "source": [
    "def stemming(text): # stemming\n",
    "    snow_stemmer = SnowballStemmer(language='english')\n",
    "    \n",
    "    string=\" \" \n",
    "    stem_text=[]\n",
    "    for sentence in text:\n",
    "        # sentence split\n",
    "        words = sentence.split()                \n",
    "        stem=[]\n",
    "        for w in words:\n",
    "            # words stemming\n",
    "            stemming=snow_stemmer.stem(w)       \n",
    "            stem.append(stemming)\n",
    "            \n",
    "        stem_text.append(string.join(stem))\n",
    "        \n",
    "    # cleaning function uses this output\n",
    "    df=pd.DataFrame(stem_text,columns=[\"text\"])\n",
    "    output=df[\"text\"]\n",
    "    return output"
   ]
  },
  {
   "cell_type": "code",
   "execution_count": 10,
   "metadata": {
    "executionInfo": {
     "elapsed": 9429,
     "status": "ok",
     "timestamp": 1612534224581,
     "user": {
      "displayName": "Panni Homolya",
      "photoUrl": "",
      "userId": "16634482512117413254"
     },
     "user_tz": -60
    },
    "id": "Qy810oVRrXWl"
   },
   "outputs": [],
   "source": [
    "stem_text=stemming(tweet)"
   ]
  },
  {
   "cell_type": "code",
   "execution_count": 11,
   "metadata": {
    "executionInfo": {
     "elapsed": 5414,
     "status": "ok",
     "timestamp": 1612534224583,
     "user": {
      "displayName": "Panni Homolya",
      "photoUrl": "",
      "userId": "16634482512117413254"
     },
     "user_tz": -60
    },
    "id": "zw6pFMvIY2z8"
   },
   "outputs": [],
   "source": [
    "def cleaning(texts):\n",
    "\n",
    "    texts = texts.str.lower()\n",
    "    \n",
    "    # remove duplicate\n",
    "    pattern = re.compile(r\"(.)\\1{2,}\", re.DOTALL)\n",
    "    texts = texts.str.replace(pattern, r\"\\1\")\n",
    "\n",
    "    # remove contraction\n",
    "    texts = texts.str.replace(r\"(can't|cannot)\", 'can not')\n",
    "    texts = texts.str.replace(r\"n't\", ' not')\n",
    "    texts = texts.str.replace(r\"i'm\",\"i am\")\n",
    "    texts = texts.str.replace(r\"im\",\"i am\")\n",
    "    texts = texts.str.replace(r\"you're\",\"you are\")\n",
    "\n",
    "    # stopwords\n",
    "    stopwords = nltk.corpus.stopwords.words('english')\n",
    "    stopwords.remove('not')\n",
    "    stopwords.remove('nor')\n",
    "    stopwords.remove('no')\n",
    "    texts = texts.apply(lambda x: ' '.join([word for word in x.split() if word not in stopwords]))\n",
    "        \n",
    "    return texts"
   ]
  },
  {
   "cell_type": "code",
   "execution_count": 12,
   "metadata": {
    "executionInfo": {
     "elapsed": 1914,
     "status": "ok",
     "timestamp": 1612534233288,
     "user": {
      "displayName": "Panni Homolya",
      "photoUrl": "",
      "userId": "16634482512117413254"
     },
     "user_tz": -60
    },
    "id": "Obr2_AIEY2z8"
   },
   "outputs": [],
   "source": [
    "texts=cleaning(stem_text)"
   ]
  },
  {
   "cell_type": "code",
   "execution_count": 13,
   "metadata": {
    "executionInfo": {
     "elapsed": 916,
     "status": "ok",
     "timestamp": 1612534233292,
     "user": {
      "displayName": "Panni Homolya",
      "photoUrl": "",
      "userId": "16634482512117413254"
     },
     "user_tz": -60
    },
    "id": "j7FKwtyngX7t"
   },
   "outputs": [],
   "source": [
    "def punctuation(text): # remove punctuation\n",
    "    data_p=[]\n",
    "    string = \" \"\n",
    "    \n",
    "    for i in text:\n",
    "        tokenizer = nltk.corpus.RegexpTokenizer(r'\\w+')\n",
    "        no_p=tokenizer.tokenize(i)\n",
    "        data_p.append(string.join(no_p))\n",
    "        \n",
    "    return data_p\n"
   ]
  },
  {
   "cell_type": "code",
   "execution_count": 14,
   "metadata": {
    "executionInfo": {
     "elapsed": 539,
     "status": "ok",
     "timestamp": 1612534234408,
     "user": {
      "displayName": "Panni Homolya",
      "photoUrl": "",
      "userId": "16634482512117413254"
     },
     "user_tz": -60
    },
    "id": "m2vEYmqXg1cJ"
   },
   "outputs": [],
   "source": [
    "texts=punctuation(texts)"
   ]
  },
  {
   "cell_type": "markdown",
   "metadata": {
    "id": "xMBwkgVwhjjW"
   },
   "source": [
    "# Word Cloud"
   ]
  },
  {
   "cell_type": "code",
   "execution_count": 15,
   "metadata": {
    "colab": {
     "base_uri": "https://localhost:8080/",
     "height": 198
    },
    "executionInfo": {
     "elapsed": 12582,
     "status": "ok",
     "timestamp": 1612351465041,
     "user": {
      "displayName": "Panni Homolya",
      "photoUrl": "",
      "userId": "16634482512117413254"
     },
     "user_tz": -60
    },
    "id": "PBuqgjc6hmlF",
    "outputId": "9c82bf95-392e-4d87-e2f8-b08955d8ef82"
   },
   "outputs": [
    {
     "data": {
      "image/png": "[encoded data removed]",
      "text/plain": [
       "<Figure size 432x288 with 1 Axes>"
      ]
     },
     "metadata": {
      "needs_background": "light"
     },
     "output_type": "display_data"
    }
   ],
   "source": [
    "# frequent words all the texts\n",
    "string=\" \"\n",
    "text_wcloud = string.join(texts)\n",
    "\n",
    "wordcloud = WordCloud().generate(text_wcloud)\n",
    "\n",
    "plt.imshow(wordcloud, interpolation='bilinear')\n",
    "plt.axis(\"off\")\n",
    "plt.show()"
   ]
  },
  {
   "cell_type": "markdown",
   "metadata": {
    "id": "7Jr73ir3Y2z9"
   },
   "source": [
    "# Frequent words"
   ]
  },
  {
   "cell_type": "code",
   "execution_count": 16,
   "metadata": {
    "executionInfo": {
     "elapsed": 806,
     "status": "ok",
     "timestamp": 1612534255327,
     "user": {
      "displayName": "Panni Homolya",
      "photoUrl": "",
      "userId": "16634482512117413254"
     },
     "user_tz": -60
    },
    "id": "iVAnWFMVY2z9"
   },
   "outputs": [],
   "source": [
    "def freq_words(word,text):\n",
    "    f=[]\n",
    "    for i in text:\n",
    "        i.lower()\n",
    "        if word in i:\n",
    "            f.append(1)\n",
    "        else:\n",
    "            f.append(0) \n",
    "    return f\n",
    "\n",
    "# egy listát ad vissza, aminek az 1 ha az i-dik mondat tartalmazza a szót különben 0"
   ]
  },
  {
   "cell_type": "code",
   "execution_count": 17,
   "metadata": {
    "executionInfo": {
     "elapsed": 524,
     "status": "ok",
     "timestamp": 1612534257165,
     "user": {
      "displayName": "Panni Homolya",
      "photoUrl": "",
      "userId": "16634482512117413254"
     },
     "user_tz": -60
    },
    "id": "Fgp_qSp5Y2z-"
   },
   "outputs": [],
   "source": [
    "def freq_list(word_list,text):\n",
    "    whole=[]\n",
    "    for word in word_list:\n",
    "        l=freq_words(word,text)\n",
    "        whole.append(l)\n",
    "    return whole\n",
    "\n",
    "# egy listát ad vissza, amelynek az i-dik eleme egy listát tartalmaz az adott szóról"
   ]
  },
  {
   "cell_type": "code",
   "execution_count": 18,
   "metadata": {
    "executionInfo": {
     "elapsed": 511,
     "status": "ok",
     "timestamp": 1612534267326,
     "user": {
      "displayName": "Panni Homolya",
      "photoUrl": "",
      "userId": "16634482512117413254"
     },
     "user_tz": -60
    },
    "id": "twNvkoJsY2z-"
   },
   "outputs": [],
   "source": [
    "f_words=[\"miss\",\"like\",\"love\",\"day\",\"work\",\"sad\",\"happy\",\"mother\",\"thank\",\"fun\",\"lol\",\"hate\",\"not\",\n",
    "         \"bored\",\"good\",\"no\",\"quot\",\"haha\",\"sucks\",\"go\",\"think\",\"amp\",\"ti\",\"ame\",\"one\"]"
   ]
  },
  {
   "cell_type": "code",
   "execution_count": 19,
   "metadata": {
    "executionInfo": {
     "elapsed": 711,
     "status": "ok",
     "timestamp": 1612534268903,
     "user": {
      "displayName": "Panni Homolya",
      "photoUrl": "",
      "userId": "16634482512117413254"
     },
     "user_tz": -60
    },
    "id": "AsNHrZhrY2z-"
   },
   "outputs": [],
   "source": [
    "total_list=freq_list(f_words,texts)"
   ]
  },
  {
   "cell_type": "code",
   "execution_count": 20,
   "metadata": {
    "executionInfo": {
     "elapsed": 34775,
     "status": "ok",
     "timestamp": 1612534214914,
     "user": {
      "displayName": "Panni Homolya",
      "photoUrl": "",
      "userId": "16634482512117413254"
     },
     "user_tz": -60
    },
    "id": "PW3WT-51Y2z7"
   },
   "outputs": [],
   "source": [
    "new_df=pd.DataFrame(text_sentiment['tweet_id'],columns=['tweet_id']) # for the new features"
   ]
  },
  {
   "cell_type": "code",
   "execution_count": 21,
   "metadata": {
    "executionInfo": {
     "elapsed": 938,
     "status": "ok",
     "timestamp": 1612534270380,
     "user": {
      "displayName": "Panni Homolya",
      "photoUrl": "",
      "userId": "16634482512117413254"
     },
     "user_tz": -60
    },
    "id": "Rj3jMz-TY2z_"
   },
   "outputs": [],
   "source": [
    "new_df[\"miss\"]=total_list[0]\n",
    "new_df[\"like\"]=total_list[1]\n",
    "new_df[\"love\"]=total_list[2]\n",
    "new_df[\"day\"]=total_list[3]\n",
    "new_df[\"work\"]=total_list[4]\n",
    "new_df[\"sad\"]=total_list[5]\n",
    "new_df[\"happy\"]=total_list[6]\n",
    "new_df[\"mother\"]=total_list[7]\n",
    "new_df[\"thank\"]=total_list[8]\n",
    "new_df[\"fun\"]=total_list[9]\n",
    "new_df[\"lol\"]=total_list[10]\n",
    "new_df[\"hate\"]=total_list[11]\n",
    "new_df[\"not\"]=total_list[12]\n",
    "new_df[\"bored\"]=total_list[13]\n",
    "new_df[\"good\"]=total_list[14]\n",
    "new_df[\"no\"]=total_list[15]\n",
    "new_df[\"quot\"]=total_list[16]\n",
    "new_df[\"haha\"]=total_list[17]\n",
    "new_df[\"sucks\"]=total_list[18]\n",
    "new_df[\"go\"]= total_list[19]\n",
    "new_df[\"think\"] = total_list[20]\n",
    "new_df[\"amp\"] = total_list[21]\n",
    "new_df[\"ti\"] = total_list[22]\n",
    "new_df[\"ame\"] = total_list[23]\n",
    "new_df[\"one\"] = total_list[24]"
   ]
  },
  {
   "cell_type": "code",
   "execution_count": 22,
   "metadata": {
    "colab": {
     "base_uri": "https://localhost:8080/",
     "height": 419
    },
    "executionInfo": {
     "elapsed": 708,
     "status": "ok",
     "timestamp": 1612350453938,
     "user": {
      "displayName": "Panni Homolya",
      "photoUrl": "",
      "userId": "16634482512117413254"
     },
     "user_tz": -60
    },
    "id": "dO2DIeRGY2z_",
    "outputId": "4665d206-f1ae-4e02-93db-f0975e415a51"
   },
   "outputs": [
    {
     "data": {
      "text/html": [
       "<div>\n",
       "<style scoped>\n",
       "    .dataframe tbody tr th:only-of-type {\n",
       "        vertical-align: middle;\n",
       "    }\n",
       "\n",
       "    .dataframe tbody tr th {\n",
       "        vertical-align: top;\n",
       "    }\n",
       "\n",
       "    .dataframe thead th {\n",
       "        text-align: right;\n",
       "    }\n",
       "</style>\n",
       "<table border=\"1\" class=\"dataframe\">\n",
       "  <thead>\n",
       "    <tr style=\"text-align: right;\">\n",
       "      <th></th>\n",
       "      <th>tweet_id</th>\n",
       "      <th>miss</th>\n",
       "      <th>like</th>\n",
       "      <th>love</th>\n",
       "      <th>day</th>\n",
       "      <th>work</th>\n",
       "      <th>sad</th>\n",
       "      <th>happy</th>\n",
       "      <th>mother</th>\n",
       "      <th>thank</th>\n",
       "      <th>...</th>\n",
       "      <th>no</th>\n",
       "      <th>quot</th>\n",
       "      <th>haha</th>\n",
       "      <th>sucks</th>\n",
       "      <th>go</th>\n",
       "      <th>think</th>\n",
       "      <th>amp</th>\n",
       "      <th>ti</th>\n",
       "      <th>ame</th>\n",
       "      <th>one</th>\n",
       "    </tr>\n",
       "  </thead>\n",
       "  <tbody>\n",
       "    <tr>\n",
       "      <td>0</td>\n",
       "      <td>1956967341</td>\n",
       "      <td>0</td>\n",
       "      <td>0</td>\n",
       "      <td>0</td>\n",
       "      <td>0</td>\n",
       "      <td>0</td>\n",
       "      <td>0</td>\n",
       "      <td>0</td>\n",
       "      <td>0</td>\n",
       "      <td>0</td>\n",
       "      <td>...</td>\n",
       "      <td>1</td>\n",
       "      <td>0</td>\n",
       "      <td>0</td>\n",
       "      <td>0</td>\n",
       "      <td>0</td>\n",
       "      <td>0</td>\n",
       "      <td>0</td>\n",
       "      <td>0</td>\n",
       "      <td>0</td>\n",
       "      <td>0</td>\n",
       "    </tr>\n",
       "    <tr>\n",
       "      <td>1</td>\n",
       "      <td>1956967666</td>\n",
       "      <td>0</td>\n",
       "      <td>0</td>\n",
       "      <td>0</td>\n",
       "      <td>0</td>\n",
       "      <td>0</td>\n",
       "      <td>0</td>\n",
       "      <td>0</td>\n",
       "      <td>0</td>\n",
       "      <td>0</td>\n",
       "      <td>...</td>\n",
       "      <td>0</td>\n",
       "      <td>0</td>\n",
       "      <td>0</td>\n",
       "      <td>0</td>\n",
       "      <td>0</td>\n",
       "      <td>0</td>\n",
       "      <td>0</td>\n",
       "      <td>1</td>\n",
       "      <td>0</td>\n",
       "      <td>0</td>\n",
       "    </tr>\n",
       "    <tr>\n",
       "      <td>2</td>\n",
       "      <td>1956967696</td>\n",
       "      <td>0</td>\n",
       "      <td>0</td>\n",
       "      <td>0</td>\n",
       "      <td>1</td>\n",
       "      <td>0</td>\n",
       "      <td>0</td>\n",
       "      <td>0</td>\n",
       "      <td>0</td>\n",
       "      <td>0</td>\n",
       "      <td>...</td>\n",
       "      <td>0</td>\n",
       "      <td>0</td>\n",
       "      <td>0</td>\n",
       "      <td>0</td>\n",
       "      <td>0</td>\n",
       "      <td>0</td>\n",
       "      <td>0</td>\n",
       "      <td>0</td>\n",
       "      <td>0</td>\n",
       "      <td>0</td>\n",
       "    </tr>\n",
       "    <tr>\n",
       "      <td>3</td>\n",
       "      <td>1956967789</td>\n",
       "      <td>0</td>\n",
       "      <td>0</td>\n",
       "      <td>0</td>\n",
       "      <td>0</td>\n",
       "      <td>0</td>\n",
       "      <td>0</td>\n",
       "      <td>0</td>\n",
       "      <td>0</td>\n",
       "      <td>0</td>\n",
       "      <td>...</td>\n",
       "      <td>0</td>\n",
       "      <td>0</td>\n",
       "      <td>0</td>\n",
       "      <td>0</td>\n",
       "      <td>0</td>\n",
       "      <td>0</td>\n",
       "      <td>0</td>\n",
       "      <td>0</td>\n",
       "      <td>0</td>\n",
       "      <td>0</td>\n",
       "    </tr>\n",
       "    <tr>\n",
       "      <td>4</td>\n",
       "      <td>1956968416</td>\n",
       "      <td>0</td>\n",
       "      <td>0</td>\n",
       "      <td>0</td>\n",
       "      <td>0</td>\n",
       "      <td>0</td>\n",
       "      <td>0</td>\n",
       "      <td>0</td>\n",
       "      <td>0</td>\n",
       "      <td>0</td>\n",
       "      <td>...</td>\n",
       "      <td>1</td>\n",
       "      <td>0</td>\n",
       "      <td>0</td>\n",
       "      <td>0</td>\n",
       "      <td>0</td>\n",
       "      <td>0</td>\n",
       "      <td>0</td>\n",
       "      <td>1</td>\n",
       "      <td>0</td>\n",
       "      <td>1</td>\n",
       "    </tr>\n",
       "    <tr>\n",
       "      <td>...</td>\n",
       "      <td>...</td>\n",
       "      <td>...</td>\n",
       "      <td>...</td>\n",
       "      <td>...</td>\n",
       "      <td>...</td>\n",
       "      <td>...</td>\n",
       "      <td>...</td>\n",
       "      <td>...</td>\n",
       "      <td>...</td>\n",
       "      <td>...</td>\n",
       "      <td>...</td>\n",
       "      <td>...</td>\n",
       "      <td>...</td>\n",
       "      <td>...</td>\n",
       "      <td>...</td>\n",
       "      <td>...</td>\n",
       "      <td>...</td>\n",
       "      <td>...</td>\n",
       "      <td>...</td>\n",
       "      <td>...</td>\n",
       "      <td>...</td>\n",
       "    </tr>\n",
       "    <tr>\n",
       "      <td>39995</td>\n",
       "      <td>1753918954</td>\n",
       "      <td>0</td>\n",
       "      <td>0</td>\n",
       "      <td>0</td>\n",
       "      <td>0</td>\n",
       "      <td>0</td>\n",
       "      <td>0</td>\n",
       "      <td>0</td>\n",
       "      <td>0</td>\n",
       "      <td>0</td>\n",
       "      <td>...</td>\n",
       "      <td>0</td>\n",
       "      <td>0</td>\n",
       "      <td>0</td>\n",
       "      <td>0</td>\n",
       "      <td>0</td>\n",
       "      <td>0</td>\n",
       "      <td>0</td>\n",
       "      <td>0</td>\n",
       "      <td>0</td>\n",
       "      <td>0</td>\n",
       "    </tr>\n",
       "    <tr>\n",
       "      <td>39996</td>\n",
       "      <td>1753919001</td>\n",
       "      <td>0</td>\n",
       "      <td>0</td>\n",
       "      <td>1</td>\n",
       "      <td>1</td>\n",
       "      <td>0</td>\n",
       "      <td>0</td>\n",
       "      <td>0</td>\n",
       "      <td>1</td>\n",
       "      <td>0</td>\n",
       "      <td>...</td>\n",
       "      <td>0</td>\n",
       "      <td>0</td>\n",
       "      <td>0</td>\n",
       "      <td>0</td>\n",
       "      <td>0</td>\n",
       "      <td>0</td>\n",
       "      <td>0</td>\n",
       "      <td>0</td>\n",
       "      <td>0</td>\n",
       "      <td>0</td>\n",
       "    </tr>\n",
       "    <tr>\n",
       "      <td>39997</td>\n",
       "      <td>1753919005</td>\n",
       "      <td>0</td>\n",
       "      <td>0</td>\n",
       "      <td>0</td>\n",
       "      <td>1</td>\n",
       "      <td>0</td>\n",
       "      <td>0</td>\n",
       "      <td>0</td>\n",
       "      <td>1</td>\n",
       "      <td>0</td>\n",
       "      <td>...</td>\n",
       "      <td>0</td>\n",
       "      <td>0</td>\n",
       "      <td>0</td>\n",
       "      <td>0</td>\n",
       "      <td>0</td>\n",
       "      <td>0</td>\n",
       "      <td>0</td>\n",
       "      <td>0</td>\n",
       "      <td>0</td>\n",
       "      <td>0</td>\n",
       "    </tr>\n",
       "    <tr>\n",
       "      <td>39998</td>\n",
       "      <td>1753919043</td>\n",
       "      <td>0</td>\n",
       "      <td>0</td>\n",
       "      <td>0</td>\n",
       "      <td>0</td>\n",
       "      <td>0</td>\n",
       "      <td>0</td>\n",
       "      <td>0</td>\n",
       "      <td>0</td>\n",
       "      <td>0</td>\n",
       "      <td>...</td>\n",
       "      <td>0</td>\n",
       "      <td>0</td>\n",
       "      <td>0</td>\n",
       "      <td>0</td>\n",
       "      <td>0</td>\n",
       "      <td>0</td>\n",
       "      <td>0</td>\n",
       "      <td>1</td>\n",
       "      <td>0</td>\n",
       "      <td>0</td>\n",
       "    </tr>\n",
       "    <tr>\n",
       "      <td>39999</td>\n",
       "      <td>1753919049</td>\n",
       "      <td>0</td>\n",
       "      <td>0</td>\n",
       "      <td>0</td>\n",
       "      <td>1</td>\n",
       "      <td>0</td>\n",
       "      <td>0</td>\n",
       "      <td>0</td>\n",
       "      <td>0</td>\n",
       "      <td>0</td>\n",
       "      <td>...</td>\n",
       "      <td>0</td>\n",
       "      <td>0</td>\n",
       "      <td>0</td>\n",
       "      <td>0</td>\n",
       "      <td>1</td>\n",
       "      <td>0</td>\n",
       "      <td>0</td>\n",
       "      <td>1</td>\n",
       "      <td>0</td>\n",
       "      <td>0</td>\n",
       "    </tr>\n",
       "  </tbody>\n",
       "</table>\n",
       "<p>40000 rows × 26 columns</p>\n",
       "</div>"
      ],
      "text/plain": [
       "         tweet_id  miss  like  love  day  work  sad  happy  mother  thank  \\\n",
       "0      1956967341     0     0     0    0     0    0      0       0      0   \n",
       "1      1956967666     0     0     0    0     0    0      0       0      0   \n",
       "2      1956967696     0     0     0    1     0    0      0       0      0   \n",
       "3      1956967789     0     0     0    0     0    0      0       0      0   \n",
       "4      1956968416     0     0     0    0     0    0      0       0      0   \n",
       "...           ...   ...   ...   ...  ...   ...  ...    ...     ...    ...   \n",
       "39995  1753918954     0     0     0    0     0    0      0       0      0   \n",
       "39996  1753919001     0     0     1    1     0    0      0       1      0   \n",
       "39997  1753919005     0     0     0    1     0    0      0       1      0   \n",
       "39998  1753919043     0     0     0    0     0    0      0       0      0   \n",
       "39999  1753919049     0     0     0    1     0    0      0       0      0   \n",
       "\n",
       "       ...  no  quot  haha  sucks  go  think  amp  ti  ame  one  \n",
       "0      ...   1     0     0      0   0      0    0   0    0    0  \n",
       "1      ...   0     0     0      0   0      0    0   1    0    0  \n",
       "2      ...   0     0     0      0   0      0    0   0    0    0  \n",
       "3      ...   0     0     0      0   0      0    0   0    0    0  \n",
       "4      ...   1     0     0      0   0      0    0   1    0    1  \n",
       "...    ...  ..   ...   ...    ...  ..    ...  ...  ..  ...  ...  \n",
       "39995  ...   0     0     0      0   0      0    0   0    0    0  \n",
       "39996  ...   0     0     0      0   0      0    0   0    0    0  \n",
       "39997  ...   0     0     0      0   0      0    0   0    0    0  \n",
       "39998  ...   0     0     0      0   0      0    0   1    0    0  \n",
       "39999  ...   0     0     0      0   1      0    0   1    0    0  \n",
       "\n",
       "[40000 rows x 26 columns]"
      ]
     },
     "execution_count": 22,
     "metadata": {},
     "output_type": "execute_result"
    }
   ],
   "source": [
    "new_df"
   ]
  },
  {
   "cell_type": "markdown",
   "metadata": {
    "id": "GyT9uIHOsVKu"
   },
   "source": [
    "# Count words"
   ]
  },
  {
   "cell_type": "code",
   "execution_count": 23,
   "metadata": {
    "executionInfo": {
     "elapsed": 520,
     "status": "ok",
     "timestamp": 1612534278256,
     "user": {
      "displayName": "Panni Homolya",
      "photoUrl": "",
      "userId": "16634482512117413254"
     },
     "user_tz": -60
    },
    "id": "IxI6VQS-sOV6"
   },
   "outputs": [],
   "source": [
    "def words_num(text):\n",
    "    words_num=[]\n",
    "    for i in text:\n",
    "        sentence=nltk.word_tokenize(i) # mondatokat felbontja szavakra\n",
    "        count=len(sentence)            # megszámolja mennyi szó van benne\n",
    "        words_num.append(count)\n",
    "    return words_num"
   ]
  },
  {
   "cell_type": "code",
   "execution_count": 24,
   "metadata": {
    "executionInfo": {
     "elapsed": 4122,
     "status": "ok",
     "timestamp": 1612534283026,
     "user": {
      "displayName": "Panni Homolya",
      "photoUrl": "",
      "userId": "16634482512117413254"
     },
     "user_tz": -60
    },
    "id": "4Dt8eQ5fshdQ"
   },
   "outputs": [],
   "source": [
    "words_number=words_num(texts)\n",
    "new_df[\"words_number\"]=words_number"
   ]
  },
  {
   "cell_type": "markdown",
   "metadata": {
    "id": "OfZ9UiecY2z_"
   },
   "source": [
    "# Tags"
   ]
  },
  {
   "cell_type": "code",
   "execution_count": 25,
   "metadata": {
    "executionInfo": {
     "elapsed": 544,
     "status": "ok",
     "timestamp": 1612534285706,
     "user": {
      "displayName": "Panni Homolya",
      "photoUrl": "",
      "userId": "16634482512117413254"
     },
     "user_tz": -60
    },
    "id": "4t848GBkY2z_"
   },
   "outputs": [],
   "source": [
    "def tag_in_sentence(tg,text):\n",
    "    tag_lst=[]\n",
    "    for i in text:\n",
    "        tokens = nltk.word_tokenize(i)             # mondatokat teljesen szétbontása (lista)\n",
    "        txt=nltk.Text(tokens)                      # text-é alakítja a listát\n",
    "        tags = nltk.pos_tag(txt)                   # tag-el\n",
    "        count = Counter(tag for word,tag in tags)  # tuple: (tag,count)\n",
    "        \n",
    "        item=count[tg]                             # a beadott tagnak a száma a mondatban\n",
    "        tag_lst.append(item)\n",
    "    \n",
    "    return tag_lst\n",
    "\n",
    "# olyan listát kapunk vissza, aminek az elemei az i-edik mondatban a keresett tag-jeink száma "
   ]
  },
  {
   "cell_type": "code",
   "execution_count": 26,
   "metadata": {
    "executionInfo": {
     "elapsed": 518,
     "status": "ok",
     "timestamp": 1612534286872,
     "user": {
      "displayName": "Panni Homolya",
      "photoUrl": "",
      "userId": "16634482512117413254"
     },
     "user_tz": -60
    },
    "id": "ldE8DtSWY20A"
   },
   "outputs": [],
   "source": [
    "def tag_list(tag_lst,text):\n",
    "    t_list=[]\n",
    "    for i in tag_lst:\n",
    "        tis=tag_in_sentence(i,text)\n",
    "        t_list.append(tis)\n",
    "    return t_list\n",
    "\n",
    "# olyan listát kapunk vissza,aminek az i-edik eleme egy listát tartalmaz az adott tag számáról."
   ]
  },
  {
   "cell_type": "code",
   "execution_count": 27,
   "metadata": {
    "id": "YQm4RbF4Y20B"
   },
   "outputs": [],
   "source": [
    "tag_l=[\"CC\",\"FW\",\"JJ\",\"JJR\",\"NN\",\"NNP\",\"NNS\",\"UH\",\"VB\",\"VBD\",\"VBG\",\"VBN\"]"
   ]
  },
  {
   "cell_type": "code",
   "execution_count": 28,
   "metadata": {
    "id": "6UL_88TyY20B"
   },
   "outputs": [],
   "source": [
    "total_tag=tag_list(tag_l,texts)"
   ]
  },
  {
   "cell_type": "code",
   "execution_count": 29,
   "metadata": {
    "id": "NCGhiOTMY20B"
   },
   "outputs": [],
   "source": [
    "new_df[\"CC\"]=total_tag[0]\n",
    "new_df[\"FW\"]=total_tag[1]\n",
    "new_df[\"JJ\"]=total_tag[2]\n",
    "new_df[\"JJR\"]=total_tag[3]\n",
    "new_df[\"NN\"]=total_tag[4]\n",
    "new_df[\"NNP\"]=total_tag[5]\n",
    "new_df[\"NNS\"]=total_tag[6]\n",
    "new_df[\"UH\"]=total_tag[7]\n",
    "new_df[\"VB\"]=total_tag[8]\n",
    "new_df[\"VBD\"]=total_tag[9]\n",
    "new_df[\"VBG\"]=total_tag[10]\n",
    "new_df[\"VBN\"]=total_tag[11]"
   ]
  },
  {
   "cell_type": "code",
   "execution_count": 30,
   "metadata": {
    "colab": {
     "base_uri": "https://localhost:8080/",
     "height": 1000
    },
    "executionInfo": {
     "elapsed": 353965,
     "status": "ok",
     "timestamp": 1612343309917,
     "user": {
      "displayName": "Panni Homolya",
      "photoUrl": "",
      "userId": "16634482512117413254"
     },
     "user_tz": -60
    },
    "id": "gyAMwZMWY20D",
    "outputId": "92e4a93e-ae2f-4944-df6e-2adfcbef2f0d"
   },
   "outputs": [
    {
     "data": {
      "text/html": [
       "<div>\n",
       "<style scoped>\n",
       "    .dataframe tbody tr th:only-of-type {\n",
       "        vertical-align: middle;\n",
       "    }\n",
       "\n",
       "    .dataframe tbody tr th {\n",
       "        vertical-align: top;\n",
       "    }\n",
       "\n",
       "    .dataframe thead th {\n",
       "        text-align: right;\n",
       "    }\n",
       "</style>\n",
       "<table border=\"1\" class=\"dataframe\">\n",
       "  <thead>\n",
       "    <tr style=\"text-align: right;\">\n",
       "      <th></th>\n",
       "      <th>tweet_id</th>\n",
       "      <th>miss</th>\n",
       "      <th>like</th>\n",
       "      <th>love</th>\n",
       "      <th>day</th>\n",
       "      <th>work</th>\n",
       "      <th>sad</th>\n",
       "      <th>happy</th>\n",
       "      <th>mother</th>\n",
       "      <th>thank</th>\n",
       "      <th>...</th>\n",
       "      <th>JJ</th>\n",
       "      <th>JJR</th>\n",
       "      <th>NN</th>\n",
       "      <th>NNP</th>\n",
       "      <th>NNS</th>\n",
       "      <th>UH</th>\n",
       "      <th>VB</th>\n",
       "      <th>VBD</th>\n",
       "      <th>VBG</th>\n",
       "      <th>VBN</th>\n",
       "    </tr>\n",
       "  </thead>\n",
       "  <tbody>\n",
       "    <tr>\n",
       "      <td>0</td>\n",
       "      <td>1956967341</td>\n",
       "      <td>0</td>\n",
       "      <td>0</td>\n",
       "      <td>0</td>\n",
       "      <td>0</td>\n",
       "      <td>0</td>\n",
       "      <td>0</td>\n",
       "      <td>0</td>\n",
       "      <td>0</td>\n",
       "      <td>0</td>\n",
       "      <td>...</td>\n",
       "      <td>1</td>\n",
       "      <td>0</td>\n",
       "      <td>4</td>\n",
       "      <td>0</td>\n",
       "      <td>0</td>\n",
       "      <td>0</td>\n",
       "      <td>2</td>\n",
       "      <td>0</td>\n",
       "      <td>0</td>\n",
       "      <td>0</td>\n",
       "    </tr>\n",
       "    <tr>\n",
       "      <td>1</td>\n",
       "      <td>1956967666</td>\n",
       "      <td>0</td>\n",
       "      <td>0</td>\n",
       "      <td>0</td>\n",
       "      <td>0</td>\n",
       "      <td>0</td>\n",
       "      <td>0</td>\n",
       "      <td>0</td>\n",
       "      <td>0</td>\n",
       "      <td>0</td>\n",
       "      <td>...</td>\n",
       "      <td>0</td>\n",
       "      <td>0</td>\n",
       "      <td>5</td>\n",
       "      <td>0</td>\n",
       "      <td>0</td>\n",
       "      <td>0</td>\n",
       "      <td>0</td>\n",
       "      <td>0</td>\n",
       "      <td>0</td>\n",
       "      <td>0</td>\n",
       "    </tr>\n",
       "    <tr>\n",
       "      <td>2</td>\n",
       "      <td>1956967696</td>\n",
       "      <td>0</td>\n",
       "      <td>0</td>\n",
       "      <td>0</td>\n",
       "      <td>1</td>\n",
       "      <td>0</td>\n",
       "      <td>0</td>\n",
       "      <td>0</td>\n",
       "      <td>0</td>\n",
       "      <td>0</td>\n",
       "      <td>...</td>\n",
       "      <td>0</td>\n",
       "      <td>0</td>\n",
       "      <td>4</td>\n",
       "      <td>0</td>\n",
       "      <td>0</td>\n",
       "      <td>0</td>\n",
       "      <td>0</td>\n",
       "      <td>0</td>\n",
       "      <td>0</td>\n",
       "      <td>0</td>\n",
       "    </tr>\n",
       "    <tr>\n",
       "      <td>3</td>\n",
       "      <td>1956967789</td>\n",
       "      <td>0</td>\n",
       "      <td>0</td>\n",
       "      <td>0</td>\n",
       "      <td>0</td>\n",
       "      <td>0</td>\n",
       "      <td>0</td>\n",
       "      <td>0</td>\n",
       "      <td>0</td>\n",
       "      <td>0</td>\n",
       "      <td>...</td>\n",
       "      <td>1</td>\n",
       "      <td>0</td>\n",
       "      <td>2</td>\n",
       "      <td>0</td>\n",
       "      <td>0</td>\n",
       "      <td>0</td>\n",
       "      <td>0</td>\n",
       "      <td>0</td>\n",
       "      <td>0</td>\n",
       "      <td>0</td>\n",
       "    </tr>\n",
       "    <tr>\n",
       "      <td>4</td>\n",
       "      <td>1956968416</td>\n",
       "      <td>0</td>\n",
       "      <td>0</td>\n",
       "      <td>0</td>\n",
       "      <td>0</td>\n",
       "      <td>0</td>\n",
       "      <td>0</td>\n",
       "      <td>0</td>\n",
       "      <td>0</td>\n",
       "      <td>0</td>\n",
       "      <td>...</td>\n",
       "      <td>2</td>\n",
       "      <td>0</td>\n",
       "      <td>3</td>\n",
       "      <td>0</td>\n",
       "      <td>0</td>\n",
       "      <td>0</td>\n",
       "      <td>0</td>\n",
       "      <td>0</td>\n",
       "      <td>0</td>\n",
       "      <td>0</td>\n",
       "    </tr>\n",
       "    <tr>\n",
       "      <td>...</td>\n",
       "      <td>...</td>\n",
       "      <td>...</td>\n",
       "      <td>...</td>\n",
       "      <td>...</td>\n",
       "      <td>...</td>\n",
       "      <td>...</td>\n",
       "      <td>...</td>\n",
       "      <td>...</td>\n",
       "      <td>...</td>\n",
       "      <td>...</td>\n",
       "      <td>...</td>\n",
       "      <td>...</td>\n",
       "      <td>...</td>\n",
       "      <td>...</td>\n",
       "      <td>...</td>\n",
       "      <td>...</td>\n",
       "      <td>...</td>\n",
       "      <td>...</td>\n",
       "      <td>...</td>\n",
       "      <td>...</td>\n",
       "      <td>...</td>\n",
       "    </tr>\n",
       "    <tr>\n",
       "      <td>39995</td>\n",
       "      <td>1753918954</td>\n",
       "      <td>0</td>\n",
       "      <td>0</td>\n",
       "      <td>0</td>\n",
       "      <td>0</td>\n",
       "      <td>0</td>\n",
       "      <td>0</td>\n",
       "      <td>0</td>\n",
       "      <td>0</td>\n",
       "      <td>0</td>\n",
       "      <td>...</td>\n",
       "      <td>0</td>\n",
       "      <td>0</td>\n",
       "      <td>0</td>\n",
       "      <td>0</td>\n",
       "      <td>0</td>\n",
       "      <td>0</td>\n",
       "      <td>0</td>\n",
       "      <td>0</td>\n",
       "      <td>0</td>\n",
       "      <td>0</td>\n",
       "    </tr>\n",
       "    <tr>\n",
       "      <td>39996</td>\n",
       "      <td>1753919001</td>\n",
       "      <td>0</td>\n",
       "      <td>0</td>\n",
       "      <td>1</td>\n",
       "      <td>1</td>\n",
       "      <td>0</td>\n",
       "      <td>0</td>\n",
       "      <td>0</td>\n",
       "      <td>1</td>\n",
       "      <td>0</td>\n",
       "      <td>...</td>\n",
       "      <td>0</td>\n",
       "      <td>0</td>\n",
       "      <td>2</td>\n",
       "      <td>0</td>\n",
       "      <td>0</td>\n",
       "      <td>0</td>\n",
       "      <td>1</td>\n",
       "      <td>0</td>\n",
       "      <td>0</td>\n",
       "      <td>0</td>\n",
       "    </tr>\n",
       "    <tr>\n",
       "      <td>39997</td>\n",
       "      <td>1753919005</td>\n",
       "      <td>0</td>\n",
       "      <td>0</td>\n",
       "      <td>0</td>\n",
       "      <td>1</td>\n",
       "      <td>0</td>\n",
       "      <td>0</td>\n",
       "      <td>0</td>\n",
       "      <td>1</td>\n",
       "      <td>0</td>\n",
       "      <td>...</td>\n",
       "      <td>1</td>\n",
       "      <td>0</td>\n",
       "      <td>6</td>\n",
       "      <td>0</td>\n",
       "      <td>0</td>\n",
       "      <td>0</td>\n",
       "      <td>1</td>\n",
       "      <td>0</td>\n",
       "      <td>0</td>\n",
       "      <td>0</td>\n",
       "    </tr>\n",
       "    <tr>\n",
       "      <td>39998</td>\n",
       "      <td>1753919043</td>\n",
       "      <td>0</td>\n",
       "      <td>0</td>\n",
       "      <td>0</td>\n",
       "      <td>0</td>\n",
       "      <td>0</td>\n",
       "      <td>0</td>\n",
       "      <td>0</td>\n",
       "      <td>0</td>\n",
       "      <td>0</td>\n",
       "      <td>...</td>\n",
       "      <td>3</td>\n",
       "      <td>0</td>\n",
       "      <td>7</td>\n",
       "      <td>0</td>\n",
       "      <td>0</td>\n",
       "      <td>0</td>\n",
       "      <td>1</td>\n",
       "      <td>0</td>\n",
       "      <td>0</td>\n",
       "      <td>0</td>\n",
       "    </tr>\n",
       "    <tr>\n",
       "      <td>39999</td>\n",
       "      <td>1753919049</td>\n",
       "      <td>0</td>\n",
       "      <td>0</td>\n",
       "      <td>0</td>\n",
       "      <td>1</td>\n",
       "      <td>0</td>\n",
       "      <td>0</td>\n",
       "      <td>0</td>\n",
       "      <td>0</td>\n",
       "      <td>0</td>\n",
       "      <td>...</td>\n",
       "      <td>1</td>\n",
       "      <td>0</td>\n",
       "      <td>11</td>\n",
       "      <td>0</td>\n",
       "      <td>0</td>\n",
       "      <td>0</td>\n",
       "      <td>0</td>\n",
       "      <td>0</td>\n",
       "      <td>0</td>\n",
       "      <td>0</td>\n",
       "    </tr>\n",
       "  </tbody>\n",
       "</table>\n",
       "<p>40000 rows × 39 columns</p>\n",
       "</div>"
      ],
      "text/plain": [
       "         tweet_id  miss  like  love  day  work  sad  happy  mother  thank  \\\n",
       "0      1956967341     0     0     0    0     0    0      0       0      0   \n",
       "1      1956967666     0     0     0    0     0    0      0       0      0   \n",
       "2      1956967696     0     0     0    1     0    0      0       0      0   \n",
       "3      1956967789     0     0     0    0     0    0      0       0      0   \n",
       "4      1956968416     0     0     0    0     0    0      0       0      0   \n",
       "...           ...   ...   ...   ...  ...   ...  ...    ...     ...    ...   \n",
       "39995  1753918954     0     0     0    0     0    0      0       0      0   \n",
       "39996  1753919001     0     0     1    1     0    0      0       1      0   \n",
       "39997  1753919005     0     0     0    1     0    0      0       1      0   \n",
       "39998  1753919043     0     0     0    0     0    0      0       0      0   \n",
       "39999  1753919049     0     0     0    1     0    0      0       0      0   \n",
       "\n",
       "       ...  JJ  JJR  NN  NNP  NNS  UH  VB  VBD  VBG  VBN  \n",
       "0      ...   1    0   4    0    0   0   2    0    0    0  \n",
       "1      ...   0    0   5    0    0   0   0    0    0    0  \n",
       "2      ...   0    0   4    0    0   0   0    0    0    0  \n",
       "3      ...   1    0   2    0    0   0   0    0    0    0  \n",
       "4      ...   2    0   3    0    0   0   0    0    0    0  \n",
       "...    ...  ..  ...  ..  ...  ...  ..  ..  ...  ...  ...  \n",
       "39995  ...   0    0   0    0    0   0   0    0    0    0  \n",
       "39996  ...   0    0   2    0    0   0   1    0    0    0  \n",
       "39997  ...   1    0   6    0    0   0   1    0    0    0  \n",
       "39998  ...   3    0   7    0    0   0   1    0    0    0  \n",
       "39999  ...   1    0  11    0    0   0   0    0    0    0  \n",
       "\n",
       "[40000 rows x 39 columns]"
      ]
     },
     "execution_count": 30,
     "metadata": {},
     "output_type": "execute_result"
    }
   ],
   "source": [
    "new_df"
   ]
  },
  {
   "cell_type": "markdown",
   "metadata": {
    "id": "1d9IJMQMY20H"
   },
   "source": [
    "# CountVectorizer"
   ]
  },
  {
   "cell_type": "code",
   "execution_count": 31,
   "metadata": {
    "id": "iH-MGOmSY20H"
   },
   "outputs": [],
   "source": [
    "count_v = CountVectorizer() \n",
    "count_v.fit(texts) \n",
    "\n",
    "sentence_train=count_v.transform(texts)"
   ]
  },
  {
   "cell_type": "code",
   "execution_count": 32,
   "metadata": {
    "id": "f7RxjCsp4k_z"
   },
   "outputs": [],
   "source": [
    "matrix_train=scipy.sparse.csr_matrix(new_df.values) # my features sparse matrix"
   ]
  },
  {
   "cell_type": "code",
   "execution_count": 33,
   "metadata": {
    "colab": {
     "base_uri": "https://localhost:8080/"
    },
    "executionInfo": {
     "elapsed": 551,
     "status": "ok",
     "timestamp": 1612373838477,
     "user": {
      "displayName": "Panni Homolya",
      "photoUrl": "",
      "userId": "16634482512117413254"
     },
     "user_tz": -60
    },
    "id": "aV9nYLIdY20I",
    "outputId": "5b17b6f7-baf3-4798-ba75-bbeac1711fe7"
   },
   "outputs": [
    {
     "name": "stdout",
     "output_type": "stream",
     "text": [
      "(40000, 25775)\n"
     ]
    },
    {
     "data": {
      "text/plain": [
       "<40000x25775 sparse matrix of type '<class 'numpy.int64'>'\n",
       "\twith 544835 stored elements in COOrdinate format>"
      ]
     },
     "execution_count": 33,
     "metadata": {},
     "output_type": "execute_result"
    }
   ],
   "source": [
    "feature=scipy.sparse.hstack((matrix_train, sentence_train))\n",
    "\n",
    "print(feature.shape)\n",
    "feature"
   ]
  },
  {
   "cell_type": "markdown",
   "metadata": {
    "id": "tpNzwzzhY20F"
   },
   "source": [
    "# Train set - Validation set - Test set "
   ]
  },
  {
   "cell_type": "code",
   "execution_count": 34,
   "metadata": {
    "id": "h1TkCiRDY20F"
   },
   "outputs": [],
   "source": [
    "train_ratio = 0.75\n",
    "validation_ratio = 0.15\n",
    "test_ratio = 0.10\n",
    "\n",
    "# train is now 75% of the entire data set\n",
    "x_train, x_test, y_train, y_test = train_test_split(feature, num_label, test_size=1 - train_ratio)\n",
    "\n",
    "# test is now 10% of the initial data set\n",
    "# validation is now 15% of the initial data set\n",
    "x_val, x_test, y_val, y_test = train_test_split(x_test, y_test, test_size=test_ratio/(test_ratio + validation_ratio)) "
   ]
  },
  {
   "cell_type": "code",
   "execution_count": 35,
   "metadata": {
    "colab": {
     "base_uri": "https://localhost:8080/"
    },
    "executionInfo": {
     "elapsed": 574,
     "status": "ok",
     "timestamp": 1612376397384,
     "user": {
      "displayName": "Panni Homolya",
      "photoUrl": "",
      "userId": "16634482512117413254"
     },
     "user_tz": -60
    },
    "id": "qKIHJgbLY20F",
    "outputId": "3bca3162-2be3-4092-f5ec-eadee542b691"
   },
   "outputs": [
    {
     "name": "stdout",
     "output_type": "stream",
     "text": [
      "(30000, 25775) (6000, 25775) (4000, 25775) (30000,) (6000,) (4000,)\n"
     ]
    }
   ],
   "source": [
    "print(x_train.shape, x_val.shape,x_test.shape, y_train.shape,y_val.shape,y_test.shape)"
   ]
  },
  {
   "cell_type": "markdown",
   "metadata": {
    "id": "hYgMWj-mWg2z"
   },
   "source": [
    "# SMOTE"
   ]
  },
  {
   "cell_type": "code",
   "execution_count": null,
   "metadata": {
    "colab": {
     "base_uri": "https://localhost:8080/"
    },
    "executionInfo": {
     "elapsed": 32691,
     "status": "ok",
     "timestamp": 1612344142481,
     "user": {
      "displayName": "Panni Homolya",
      "photoUrl": "",
      "userId": "16634482512117413254"
     },
     "user_tz": -60
    },
    "id": "IsitH0qpWlkK",
    "outputId": "372e4e01-2e44-4450-82ff-b25ca5b7a97e"
   },
   "outputs": [],
   "source": [
    "oversample = SMOTE()\n",
    "X_smote_train, y_smote_train = oversample.fit_resample(x_train, y_train)"
   ]
  },
  {
   "cell_type": "code",
   "execution_count": null,
   "metadata": {
    "colab": {
     "base_uri": "https://localhost:8080/",
     "height": 265
    },
    "executionInfo": {
     "elapsed": 32685,
     "status": "ok",
     "timestamp": 1612344142489,
     "user": {
      "displayName": "Panni Homolya",
      "photoUrl": "",
      "userId": "16634482512117413254"
     },
     "user_tz": -60
    },
    "id": "LDZRVyLxWy2M",
    "outputId": "587fcc50-b6ed-4152-c338-30d536b2b1f5"
   },
   "outputs": [],
   "source": [
    "counter_smote = Counter(y_smote_train)\n",
    "\n",
    "plt.bar(counter_smote.keys(), counter_smote.values())\n",
    "plt.show()"
   ]
  },
  {
   "cell_type": "markdown",
   "metadata": {
    "id": "6IVcOmoEY20K"
   },
   "source": [
    "# Decision tree"
   ]
  },
  {
   "cell_type": "code",
   "execution_count": 36,
   "metadata": {
    "colab": {
     "base_uri": "https://localhost:8080/"
    },
    "executionInfo": {
     "elapsed": 279984,
     "status": "ok",
     "timestamp": 1612351815863,
     "user": {
      "displayName": "Panni Homolya",
      "photoUrl": "",
      "userId": "16634482512117413254"
     },
     "user_tz": -60
    },
    "id": "Cy_zs2TCY20L",
    "outputId": "d3bf22e4-51eb-429b-fcfc-a2b23750e9d4"
   },
   "outputs": [
    {
     "data": {
      "text/plain": [
       "DecisionTreeClassifier(max_depth=6)"
      ]
     },
     "execution_count": 36,
     "metadata": {},
     "output_type": "execute_result"
    }
   ],
   "source": [
    "d_tree = DecisionTreeClassifier(max_depth=6)\n",
    "d_tree = d_tree.fit(x_train,y_train)\n",
    "d_tree"
   ]
  },
  {
   "cell_type": "code",
   "execution_count": 37,
   "metadata": {
    "id": "b-DdgnRhY20L"
   },
   "outputs": [],
   "source": [
    "y_pred_tree=d_tree.predict(x_val)"
   ]
  },
  {
   "cell_type": "code",
   "execution_count": 38,
   "metadata": {
    "colab": {
     "base_uri": "https://localhost:8080/"
    },
    "executionInfo": {
     "elapsed": 277230,
     "status": "ok",
     "timestamp": 1612351815865,
     "user": {
      "displayName": "Panni Homolya",
      "photoUrl": "",
      "userId": "16634482512117413254"
     },
     "user_tz": -60
    },
    "id": "TI3iBJhHY20M",
    "outputId": "43058f4d-098e-4522-cb02-1858e69d93c1"
   },
   "outputs": [
    {
     "name": "stderr",
     "output_type": "stream",
     "text": [
      "C:\\Users\\PANNI\\Anaconda3\\lib\\site-packages\\sklearn\\metrics\\_classification.py:1245: UndefinedMetricWarning: Precision and F-score are ill-defined and being set to 0.0 in labels with no predicted samples. Use `zero_division` parameter to control this behavior.\n",
      "  _warn_prf(average, modifier, msg_start, len(result))\n",
      "C:\\Users\\PANNI\\Anaconda3\\lib\\site-packages\\sklearn\\metrics\\_classification.py:1245: UndefinedMetricWarning: Precision and F-score are ill-defined and being set to 0.0 in labels with no predicted samples. Use `zero_division` parameter to control this behavior.\n",
      "  _warn_prf(average, modifier, msg_start, len(result))\n",
      "C:\\Users\\PANNI\\Anaconda3\\lib\\site-packages\\sklearn\\metrics\\_classification.py:1245: UndefinedMetricWarning: Precision and F-score are ill-defined and being set to 0.0 in labels with no predicted samples. Use `zero_division` parameter to control this behavior.\n",
      "  _warn_prf(average, modifier, msg_start, len(result))\n"
     ]
    },
    {
     "name": "stdout",
     "output_type": "stream",
     "text": [
      "              precision    recall  f1-score   support\n",
      "\n",
      "           0       0.00      0.00      0.00        15\n",
      "           1       0.00      0.00      0.00        25\n",
      "           2       0.00      0.00      0.00       115\n",
      "           3       0.00      0.00      0.00       103\n",
      "           4       0.00      0.00      0.00       248\n",
      "           5       0.33      0.12      0.17       789\n",
      "           6       0.55      0.17      0.26       203\n",
      "           7       0.52      0.39      0.45       558\n",
      "           8       0.29      0.60      0.39      1321\n",
      "           9       0.00      0.00      0.00       243\n",
      "          10       0.45      0.17      0.25       798\n",
      "          11       0.00      0.00      0.00       326\n",
      "          12       0.31      0.54      0.39      1256\n",
      "\n",
      "    accuracy                           0.33      6000\n",
      "   macro avg       0.19      0.15      0.15      6000\n",
      "weighted avg       0.30      0.33      0.28      6000\n",
      "\n"
     ]
    }
   ],
   "source": [
    "print(classification_report(y_val, y_pred_tree))"
   ]
  },
  {
   "cell_type": "code",
   "execution_count": 39,
   "metadata": {
    "colab": {
     "base_uri": "https://localhost:8080/",
     "height": 265
    },
    "executionInfo": {
     "elapsed": 259702,
     "status": "ok",
     "timestamp": 1612344382824,
     "user": {
      "displayName": "Panni Homolya",
      "photoUrl": "",
      "userId": "16634482512117413254"
     },
     "user_tz": -60
    },
    "id": "mh-0EkV8Y20M",
    "outputId": "3062e84c-6fe7-4df4-df8e-363806fc3ee1"
   },
   "outputs": [
    {
     "data": {
      "image/png": "[encoded data removed]",
      "text/plain": [
       "<Figure size 432x288 with 1 Axes>"
      ]
     },
     "metadata": {
      "needs_background": "light"
     },
     "output_type": "display_data"
    }
   ],
   "source": [
    "importance_tree = d_tree.feature_importances_\n",
    "\n",
    "plt.bar([x for x in range(len(importance_tree))], importance_tree)\n",
    "plt.show()"
   ]
  },
  {
   "cell_type": "markdown",
   "metadata": {
    "id": "5qr7QBmBY20M"
   },
   "source": [
    "# Ensemble"
   ]
  },
  {
   "cell_type": "code",
   "execution_count": 40,
   "metadata": {
    "colab": {
     "base_uri": "https://localhost:8080/"
    },
    "executionInfo": {
     "elapsed": 269869,
     "status": "ok",
     "timestamp": 1612351816078,
     "user": {
      "displayName": "Panni Homolya",
      "photoUrl": "",
      "userId": "16634482512117413254"
     },
     "user_tz": -60
    },
    "id": "S1a7Kz2KY20N",
    "outputId": "63056bbe-1756-4f8b-c2ac-3758efde6730"
   },
   "outputs": [
    {
     "data": {
      "text/plain": [
       "RandomForestClassifier(max_depth=10, n_estimators=20, random_state=3)"
      ]
     },
     "execution_count": 40,
     "metadata": {},
     "output_type": "execute_result"
    }
   ],
   "source": [
    "r_forest = RandomForestClassifier(n_estimators=20,max_depth=10, random_state=3)\n",
    "r_forest.fit(x_train,y_train)\n",
    "r_forest"
   ]
  },
  {
   "cell_type": "code",
   "execution_count": 41,
   "metadata": {
    "id": "YFbaaLpRY20N"
   },
   "outputs": [],
   "source": [
    "y_pred_forest = r_forest.predict(x_val)"
   ]
  },
  {
   "cell_type": "code",
   "execution_count": 42,
   "metadata": {
    "colab": {
     "base_uri": "https://localhost:8080/"
    },
    "executionInfo": {
     "elapsed": 268001,
     "status": "ok",
     "timestamp": 1612351816312,
     "user": {
      "displayName": "Panni Homolya",
      "photoUrl": "",
      "userId": "16634482512117413254"
     },
     "user_tz": -60
    },
    "id": "77Z07QEFY20O",
    "outputId": "1af293f4-f2fa-4bae-91f5-1c49437a22a6"
   },
   "outputs": [
    {
     "name": "stderr",
     "output_type": "stream",
     "text": [
      "C:\\Users\\PANNI\\Anaconda3\\lib\\site-packages\\sklearn\\metrics\\_classification.py:1245: UndefinedMetricWarning: Precision and F-score are ill-defined and being set to 0.0 in labels with no predicted samples. Use `zero_division` parameter to control this behavior.\n",
      "  _warn_prf(average, modifier, msg_start, len(result))\n",
      "C:\\Users\\PANNI\\Anaconda3\\lib\\site-packages\\sklearn\\metrics\\_classification.py:1245: UndefinedMetricWarning: Precision and F-score are ill-defined and being set to 0.0 in labels with no predicted samples. Use `zero_division` parameter to control this behavior.\n",
      "  _warn_prf(average, modifier, msg_start, len(result))\n",
      "C:\\Users\\PANNI\\Anaconda3\\lib\\site-packages\\sklearn\\metrics\\_classification.py:1245: UndefinedMetricWarning: Precision and F-score are ill-defined and being set to 0.0 in labels with no predicted samples. Use `zero_division` parameter to control this behavior.\n",
      "  _warn_prf(average, modifier, msg_start, len(result))\n"
     ]
    },
    {
     "name": "stdout",
     "output_type": "stream",
     "text": [
      "              precision    recall  f1-score   support\n",
      "\n",
      "           0       0.00      0.00      0.00        15\n",
      "           1       0.00      0.00      0.00        25\n",
      "           2       0.00      0.00      0.00       115\n",
      "           3       0.00      0.00      0.00       103\n",
      "           4       0.00      0.00      0.00       248\n",
      "           5       0.20      0.00      0.01       789\n",
      "           6       0.00      0.00      0.00       203\n",
      "           7       0.71      0.02      0.04       558\n",
      "           8       0.26      0.62      0.37      1321\n",
      "           9       0.00      0.00      0.00       243\n",
      "          10       0.25      0.00      0.00       798\n",
      "          11       0.00      0.00      0.00       326\n",
      "          12       0.29      0.66      0.40      1256\n",
      "\n",
      "    accuracy                           0.28      6000\n",
      "   macro avg       0.13      0.10      0.06      6000\n",
      "weighted avg       0.24      0.28      0.17      6000\n",
      "\n"
     ]
    }
   ],
   "source": [
    "print(classification_report(y_val, y_pred_forest))"
   ]
  },
  {
   "cell_type": "code",
   "execution_count": 43,
   "metadata": {
    "colab": {
     "base_uri": "https://localhost:8080/",
     "height": 265
    },
    "executionInfo": {
     "elapsed": 493799,
     "status": "ok",
     "timestamp": 1612344618281,
     "user": {
      "displayName": "Panni Homolya",
      "photoUrl": "",
      "userId": "16634482512117413254"
     },
     "user_tz": -60
    },
    "id": "ja0CXdPCY20O",
    "outputId": "da467473-73d4-4f31-8ec4-79c0ce93ea67"
   },
   "outputs": [
    {
     "data": {
      "image/png": "[encoded data removed]",
      "text/plain": [
       "<Figure size 432x288 with 1 Axes>"
      ]
     },
     "metadata": {
      "needs_background": "light"
     },
     "output_type": "display_data"
    }
   ],
   "source": [
    "importance_forest = r_forest.feature_importances_\n",
    "\n",
    "plt.bar([x for x in range(len(importance_forest))], importance_forest)\n",
    "plt.show()"
   ]
  },
  {
   "cell_type": "markdown",
   "metadata": {
    "id": "AlnAKQeuY20S"
   },
   "source": [
    "# Logistic Regression"
   ]
  },
  {
   "cell_type": "code",
   "execution_count": 44,
   "metadata": {
    "colab": {
     "base_uri": "https://localhost:8080/"
    },
    "executionInfo": {
     "elapsed": 272964,
     "status": "ok",
     "timestamp": 1612351827032,
     "user": {
      "displayName": "Panni Homolya",
      "photoUrl": "",
      "userId": "16634482512117413254"
     },
     "user_tz": -60
    },
    "id": "8hBqom8dY20S",
    "outputId": "0b6679aa-6bc0-43e4-91fe-0a72ef14c56f"
   },
   "outputs": [
    {
     "data": {
      "text/plain": [
       "LogisticRegression()"
      ]
     },
     "execution_count": 44,
     "metadata": {},
     "output_type": "execute_result"
    }
   ],
   "source": [
    "logreg = LogisticRegression()\n",
    "logreg.fit(x_train, y_train)"
   ]
  },
  {
   "cell_type": "code",
   "execution_count": 45,
   "metadata": {
    "id": "D344cn0bY20T"
   },
   "outputs": [],
   "source": [
    "y_pred_logreg = logreg.predict(x_val)"
   ]
  },
  {
   "cell_type": "code",
   "execution_count": 46,
   "metadata": {
    "colab": {
     "base_uri": "https://localhost:8080/"
    },
    "executionInfo": {
     "elapsed": 272932,
     "status": "ok",
     "timestamp": 1612351827034,
     "user": {
      "displayName": "Panni Homolya",
      "photoUrl": "",
      "userId": "16634482512117413254"
     },
     "user_tz": -60
    },
    "id": "O6xSbTu2Y20T",
    "outputId": "fe07906c-5d95-43a1-a0b6-6210f92ae3ca"
   },
   "outputs": [
    {
     "name": "stderr",
     "output_type": "stream",
     "text": [
      "C:\\Users\\PANNI\\Anaconda3\\lib\\site-packages\\sklearn\\metrics\\_classification.py:1245: UndefinedMetricWarning: Precision and F-score are ill-defined and being set to 0.0 in labels with no predicted samples. Use `zero_division` parameter to control this behavior.\n",
      "  _warn_prf(average, modifier, msg_start, len(result))\n",
      "C:\\Users\\PANNI\\Anaconda3\\lib\\site-packages\\sklearn\\metrics\\_classification.py:1245: UndefinedMetricWarning: Precision and F-score are ill-defined and being set to 0.0 in labels with no predicted samples. Use `zero_division` parameter to control this behavior.\n",
      "  _warn_prf(average, modifier, msg_start, len(result))\n",
      "C:\\Users\\PANNI\\Anaconda3\\lib\\site-packages\\sklearn\\metrics\\_classification.py:1245: UndefinedMetricWarning: Precision and F-score are ill-defined and being set to 0.0 in labels with no predicted samples. Use `zero_division` parameter to control this behavior.\n",
      "  _warn_prf(average, modifier, msg_start, len(result))\n"
     ]
    },
    {
     "name": "stdout",
     "output_type": "stream",
     "text": [
      "              precision    recall  f1-score   support\n",
      "\n",
      "           0       0.00      0.00      0.00        15\n",
      "           1       0.00      0.00      0.00        25\n",
      "           2       0.00      0.00      0.00       115\n",
      "           3       0.00      0.00      0.00       103\n",
      "           4       0.00      0.00      0.00       248\n",
      "           5       0.00      0.00      0.00       789\n",
      "           6       0.00      0.00      0.00       203\n",
      "           7       0.00      0.00      0.00       558\n",
      "           8       0.00      0.00      0.00      1321\n",
      "           9       0.00      0.00      0.00       243\n",
      "          10       0.00      0.00      0.00       798\n",
      "          11       0.00      0.00      0.00       326\n",
      "          12       0.21      1.00      0.35      1256\n",
      "\n",
      "    accuracy                           0.21      6000\n",
      "   macro avg       0.02      0.08      0.03      6000\n",
      "weighted avg       0.04      0.21      0.07      6000\n",
      "\n"
     ]
    }
   ],
   "source": [
    "print(classification_report(y_val, y_pred_logreg))"
   ]
  },
  {
   "cell_type": "code",
   "execution_count": 47,
   "metadata": {
    "colab": {
     "base_uri": "https://localhost:8080/",
     "height": 276
    },
    "executionInfo": {
     "elapsed": 509316,
     "status": "ok",
     "timestamp": 1612352063438,
     "user": {
      "displayName": "Panni Homolya",
      "photoUrl": "",
      "userId": "16634482512117413254"
     },
     "user_tz": -60
    },
    "id": "dfVYkF6eY20T",
    "outputId": "a09a7db6-dda1-44e2-b9a0-2fcc15898b0e"
   },
   "outputs": [
    {
     "data": {
      "image/png": "[encoded data removed]",
      "text/plain": [
       "<Figure size 432x288 with 1 Axes>"
      ]
     },
     "metadata": {
      "needs_background": "light"
     },
     "output_type": "display_data"
    }
   ],
   "source": [
    "importance_logreg = logreg.coef_[0]\n",
    "\n",
    "# plot feature importance\n",
    "plt.bar([x for x in range(len(importance_logreg))], importance_logreg)\n",
    "plt.show()"
   ]
  },
  {
   "cell_type": "markdown",
   "metadata": {
    "id": "FbENbHl9Y20Y"
   },
   "source": [
    "# Naive Bayes"
   ]
  },
  {
   "cell_type": "code",
   "execution_count": 48,
   "metadata": {
    "colab": {
     "base_uri": "https://localhost:8080/"
    },
    "executionInfo": {
     "elapsed": 1001,
     "status": "ok",
     "timestamp": 1612376408165,
     "user": {
      "displayName": "Panni Homolya",
      "photoUrl": "",
      "userId": "16634482512117413254"
     },
     "user_tz": -60
    },
    "id": "PVEa1GRmY20Y",
    "outputId": "53cf59ea-6164-4068-bf60-3d94b11b1ebd"
   },
   "outputs": [
    {
     "data": {
      "text/plain": [
       "MultinomialNB()"
      ]
     },
     "execution_count": 48,
     "metadata": {},
     "output_type": "execute_result"
    }
   ],
   "source": [
    "naiv_b = MultinomialNB()\n",
    "naiv_b.fit(x_train, y_train)"
   ]
  },
  {
   "cell_type": "code",
   "execution_count": 49,
   "metadata": {
    "id": "uwVXgGRQY20Y"
   },
   "outputs": [],
   "source": [
    "y_pred_naiv_b = naiv_b.predict(x_val)"
   ]
  },
  {
   "cell_type": "code",
   "execution_count": 50,
   "metadata": {
    "colab": {
     "base_uri": "https://localhost:8080/"
    },
    "executionInfo": {
     "elapsed": 587,
     "status": "ok",
     "timestamp": 1612376409679,
     "user": {
      "displayName": "Panni Homolya",
      "photoUrl": "",
      "userId": "16634482512117413254"
     },
     "user_tz": -60
    },
    "id": "oY0pj0AwY20Z",
    "outputId": "5ec65dd8-db02-48ce-f95c-e04025efb6a6"
   },
   "outputs": [
    {
     "name": "stderr",
     "output_type": "stream",
     "text": [
      "C:\\Users\\PANNI\\Anaconda3\\lib\\site-packages\\sklearn\\metrics\\_classification.py:1245: UndefinedMetricWarning: Precision and F-score are ill-defined and being set to 0.0 in labels with no predicted samples. Use `zero_division` parameter to control this behavior.\n",
      "  _warn_prf(average, modifier, msg_start, len(result))\n",
      "C:\\Users\\PANNI\\Anaconda3\\lib\\site-packages\\sklearn\\metrics\\_classification.py:1245: UndefinedMetricWarning: Precision and F-score are ill-defined and being set to 0.0 in labels with no predicted samples. Use `zero_division` parameter to control this behavior.\n",
      "  _warn_prf(average, modifier, msg_start, len(result))\n",
      "C:\\Users\\PANNI\\Anaconda3\\lib\\site-packages\\sklearn\\metrics\\_classification.py:1245: UndefinedMetricWarning: Precision and F-score are ill-defined and being set to 0.0 in labels with no predicted samples. Use `zero_division` parameter to control this behavior.\n",
      "  _warn_prf(average, modifier, msg_start, len(result))\n"
     ]
    },
    {
     "name": "stdout",
     "output_type": "stream",
     "text": [
      "              precision    recall  f1-score   support\n",
      "\n",
      "           0       0.00      0.00      0.00        15\n",
      "           1       0.00      0.00      0.00        25\n",
      "           2       0.00      0.00      0.00       115\n",
      "           3       0.00      0.00      0.00       103\n",
      "           4       0.00      0.00      0.00       248\n",
      "           5       0.30      0.22      0.25       789\n",
      "           6       0.00      0.00      0.00       203\n",
      "           7       0.52      0.23      0.32       558\n",
      "           8       0.30      0.63      0.41      1321\n",
      "           9       0.00      0.00      0.00       243\n",
      "          10       0.31      0.08      0.13       798\n",
      "          11       0.00      0.00      0.00       326\n",
      "          12       0.30      0.51      0.37      1256\n",
      "\n",
      "    accuracy                           0.31      6000\n",
      "   macro avg       0.13      0.13      0.11      6000\n",
      "weighted avg       0.26      0.31      0.25      6000\n",
      "\n"
     ]
    }
   ],
   "source": [
    "print(classification_report(y_val,y_pred_naiv_b))"
   ]
  },
  {
   "cell_type": "markdown",
   "metadata": {
    "id": "iTySqk6PY20Z"
   },
   "source": [
    "# SVM"
   ]
  },
  {
   "cell_type": "code",
   "execution_count": 51,
   "metadata": {
    "colab": {
     "base_uri": "https://localhost:8080/"
    },
    "executionInfo": {
     "elapsed": 2337,
     "status": "ok",
     "timestamp": 1612376513972,
     "user": {
      "displayName": "Panni Homolya",
      "photoUrl": "",
      "userId": "16634482512117413254"
     },
     "user_tz": -60
    },
    "id": "5oYNqwBnY20Z",
    "outputId": "fc675b58-2321-4236-ea02-645a7f3f85ce"
   },
   "outputs": [
    {
     "name": "stderr",
     "output_type": "stream",
     "text": [
      "C:\\Users\\PANNI\\Anaconda3\\lib\\site-packages\\sklearn\\svm\\_base.py:986: ConvergenceWarning: Liblinear failed to converge, increase the number of iterations.\n",
      "  \"the number of iterations.\", ConvergenceWarning)\n"
     ]
    },
    {
     "data": {
      "text/plain": [
       "LinearSVC()"
      ]
     },
     "execution_count": 51,
     "metadata": {},
     "output_type": "execute_result"
    }
   ],
   "source": [
    "svm=svm.LinearSVC()\n",
    "svm.fit(x_train, y_train)"
   ]
  },
  {
   "cell_type": "code",
   "execution_count": 52,
   "metadata": {
    "id": "-zeCMsxbY20Z"
   },
   "outputs": [],
   "source": [
    "y_pred_svm = svm.predict(x_val)"
   ]
  },
  {
   "cell_type": "code",
   "execution_count": 53,
   "metadata": {
    "colab": {
     "base_uri": "https://localhost:8080/"
    },
    "executionInfo": {
     "elapsed": 679,
     "status": "ok",
     "timestamp": 1612376521585,
     "user": {
      "displayName": "Panni Homolya",
      "photoUrl": "",
      "userId": "16634482512117413254"
     },
     "user_tz": -60
    },
    "id": "4_EhNwTjY20Z",
    "outputId": "fe271dd4-f3c8-464c-f474-d18ff16306ff"
   },
   "outputs": [
    {
     "name": "stderr",
     "output_type": "stream",
     "text": [
      "C:\\Users\\PANNI\\Anaconda3\\lib\\site-packages\\sklearn\\metrics\\_classification.py:1245: UndefinedMetricWarning: Precision and F-score are ill-defined and being set to 0.0 in labels with no predicted samples. Use `zero_division` parameter to control this behavior.\n",
      "  _warn_prf(average, modifier, msg_start, len(result))\n",
      "C:\\Users\\PANNI\\Anaconda3\\lib\\site-packages\\sklearn\\metrics\\_classification.py:1245: UndefinedMetricWarning: Precision and F-score are ill-defined and being set to 0.0 in labels with no predicted samples. Use `zero_division` parameter to control this behavior.\n",
      "  _warn_prf(average, modifier, msg_start, len(result))\n",
      "C:\\Users\\PANNI\\Anaconda3\\lib\\site-packages\\sklearn\\metrics\\_classification.py:1245: UndefinedMetricWarning: Precision and F-score are ill-defined and being set to 0.0 in labels with no predicted samples. Use `zero_division` parameter to control this behavior.\n",
      "  _warn_prf(average, modifier, msg_start, len(result))\n"
     ]
    },
    {
     "name": "stdout",
     "output_type": "stream",
     "text": [
      "              precision    recall  f1-score   support\n",
      "\n",
      "           0       0.00      0.00      0.00        15\n",
      "           1       0.00      0.00      0.00        25\n",
      "           2       0.00      0.00      0.00       115\n",
      "           3       0.00      0.00      0.00       103\n",
      "           4       0.00      0.00      0.00       248\n",
      "           5       0.00      0.00      0.00       789\n",
      "           6       0.00      0.00      0.00       203\n",
      "           7       0.00      0.00      0.00       558\n",
      "           8       0.00      0.00      0.00      1321\n",
      "           9       0.00      0.00      0.00       243\n",
      "          10       0.00      0.00      0.00       798\n",
      "          11       0.05      1.00      0.10       326\n",
      "          12       0.00      0.00      0.00      1256\n",
      "\n",
      "    accuracy                           0.05      6000\n",
      "   macro avg       0.00      0.08      0.01      6000\n",
      "weighted avg       0.00      0.05      0.01      6000\n",
      "\n"
     ]
    }
   ],
   "source": [
    "print(classification_report(y_val,y_pred_svm))"
   ]
  },
  {
   "cell_type": "markdown",
   "metadata": {
    "id": "Azk6MDD5Y20a"
   },
   "source": [
    "# TfidfVectorizer"
   ]
  },
  {
   "cell_type": "code",
   "execution_count": 54,
   "metadata": {
    "id": "-5IPDUojY20a"
   },
   "outputs": [],
   "source": [
    "tfidf_transformer = TfidfTransformer()\n",
    "tfidf_train=tfidf_transformer.fit_transform(sentence_train)\n",
    "\n",
    "feature1=scipy.sparse.hstack((matrix_train, tfidf_train))"
   ]
  },
  {
   "cell_type": "code",
   "execution_count": 55,
   "metadata": {},
   "outputs": [],
   "source": [
    "train_ratio = 0.75\n",
    "validation_ratio = 0.15\n",
    "test_ratio = 0.10\n",
    "\n",
    "# train is now 75% of the entire data set\n",
    "x_train, x_test, y_train, y_test = train_test_split(feature1, num_label, test_size=1 - train_ratio)\n",
    "\n",
    "# test is now 10% of the initial data set\n",
    "# validation is now 15% of the initial data set\n",
    "x_val, x_test, y_val, y_test = train_test_split(x_test, y_test, test_size=test_ratio/(test_ratio + validation_ratio)) "
   ]
  },
  {
   "cell_type": "markdown",
   "metadata": {
    "id": "OKuWaH1dY20b"
   },
   "source": [
    "# Decision tree"
   ]
  },
  {
   "cell_type": "code",
   "execution_count": 56,
   "metadata": {
    "id": "Luk9WX19Y20b"
   },
   "outputs": [
    {
     "data": {
      "text/plain": [
       "DecisionTreeClassifier(max_depth=6)"
      ]
     },
     "execution_count": 56,
     "metadata": {},
     "output_type": "execute_result"
    }
   ],
   "source": [
    "d_tree1 = DecisionTreeClassifier(max_depth=6)\n",
    "d_tree1 = d_tree1.fit(x_train,y_train)\n",
    "d_tree1"
   ]
  },
  {
   "cell_type": "code",
   "execution_count": 57,
   "metadata": {},
   "outputs": [],
   "source": [
    "y_pred_tree1=d_tree1.predict(x_val)"
   ]
  },
  {
   "cell_type": "code",
   "execution_count": 58,
   "metadata": {
    "id": "5_60L0iOY20b"
   },
   "outputs": [
    {
     "name": "stderr",
     "output_type": "stream",
     "text": [
      "C:\\Users\\PANNI\\Anaconda3\\lib\\site-packages\\sklearn\\metrics\\_classification.py:1245: UndefinedMetricWarning: Precision and F-score are ill-defined and being set to 0.0 in labels with no predicted samples. Use `zero_division` parameter to control this behavior.\n",
      "  _warn_prf(average, modifier, msg_start, len(result))\n",
      "C:\\Users\\PANNI\\Anaconda3\\lib\\site-packages\\sklearn\\metrics\\_classification.py:1245: UndefinedMetricWarning: Precision and F-score are ill-defined and being set to 0.0 in labels with no predicted samples. Use `zero_division` parameter to control this behavior.\n",
      "  _warn_prf(average, modifier, msg_start, len(result))\n",
      "C:\\Users\\PANNI\\Anaconda3\\lib\\site-packages\\sklearn\\metrics\\_classification.py:1245: UndefinedMetricWarning: Precision and F-score are ill-defined and being set to 0.0 in labels with no predicted samples. Use `zero_division` parameter to control this behavior.\n",
      "  _warn_prf(average, modifier, msg_start, len(result))\n"
     ]
    },
    {
     "name": "stdout",
     "output_type": "stream",
     "text": [
      "              precision    recall  f1-score   support\n",
      "\n",
      "           0       0.00      0.00      0.00        10\n",
      "           1       0.00      0.00      0.00        28\n",
      "           2       0.00      0.00      0.00       134\n",
      "           3       0.00      0.00      0.00       114\n",
      "           4       0.00      0.00      0.00       261\n",
      "           5       0.33      0.11      0.17       715\n",
      "           6       0.42      0.14      0.20       222\n",
      "           7       0.55      0.37      0.45       598\n",
      "           8       0.30      0.63      0.41      1343\n",
      "           9       0.00      0.00      0.00       225\n",
      "          10       0.49      0.17      0.26       754\n",
      "          11       0.00      0.00      0.00       312\n",
      "          12       0.34      0.57      0.42      1284\n",
      "\n",
      "    accuracy                           0.34      6000\n",
      "   macro avg       0.19      0.15      0.15      6000\n",
      "weighted avg       0.31      0.34      0.29      6000\n",
      "\n"
     ]
    }
   ],
   "source": [
    "print(classification_report(y_val, y_pred_tree1))"
   ]
  },
  {
   "cell_type": "markdown",
   "metadata": {
    "id": "2f-pQTDdY20b"
   },
   "source": [
    "# Ensemble"
   ]
  },
  {
   "cell_type": "code",
   "execution_count": 59,
   "metadata": {
    "id": "R-qVpaeeY20c"
   },
   "outputs": [
    {
     "data": {
      "text/plain": [
       "RandomForestClassifier(max_depth=10, n_estimators=20, random_state=3)"
      ]
     },
     "execution_count": 59,
     "metadata": {},
     "output_type": "execute_result"
    }
   ],
   "source": [
    "r_forest1 = RandomForestClassifier(n_estimators=20,max_depth=10, random_state=3)\n",
    "r_forest1.fit(x_train,y_train)\n",
    "r_forest1"
   ]
  },
  {
   "cell_type": "code",
   "execution_count": 60,
   "metadata": {},
   "outputs": [],
   "source": [
    "y_pred_forest1 = r_forest1.predict(x_val)"
   ]
  },
  {
   "cell_type": "code",
   "execution_count": 61,
   "metadata": {},
   "outputs": [
    {
     "name": "stderr",
     "output_type": "stream",
     "text": [
      "C:\\Users\\PANNI\\Anaconda3\\lib\\site-packages\\sklearn\\metrics\\_classification.py:1245: UndefinedMetricWarning: Precision and F-score are ill-defined and being set to 0.0 in labels with no predicted samples. Use `zero_division` parameter to control this behavior.\n",
      "  _warn_prf(average, modifier, msg_start, len(result))\n",
      "C:\\Users\\PANNI\\Anaconda3\\lib\\site-packages\\sklearn\\metrics\\_classification.py:1245: UndefinedMetricWarning: Precision and F-score are ill-defined and being set to 0.0 in labels with no predicted samples. Use `zero_division` parameter to control this behavior.\n",
      "  _warn_prf(average, modifier, msg_start, len(result))\n",
      "C:\\Users\\PANNI\\Anaconda3\\lib\\site-packages\\sklearn\\metrics\\_classification.py:1245: UndefinedMetricWarning: Precision and F-score are ill-defined and being set to 0.0 in labels with no predicted samples. Use `zero_division` parameter to control this behavior.\n",
      "  _warn_prf(average, modifier, msg_start, len(result))\n"
     ]
    },
    {
     "name": "stdout",
     "output_type": "stream",
     "text": [
      "              precision    recall  f1-score   support\n",
      "\n",
      "           0       0.00      0.00      0.00        10\n",
      "           1       0.00      0.00      0.00        28\n",
      "           2       0.00      0.00      0.00       134\n",
      "           3       0.00      0.00      0.00       114\n",
      "           4       0.00      0.00      0.00       261\n",
      "           5       0.25      0.00      0.01       715\n",
      "           6       0.00      0.00      0.00       222\n",
      "           7       0.56      0.05      0.08       598\n",
      "           8       0.27      0.72      0.39      1343\n",
      "           9       0.00      0.00      0.00       225\n",
      "          10       0.00      0.00      0.00       754\n",
      "          11       0.00      0.00      0.00       312\n",
      "          12       0.31      0.57      0.40      1284\n",
      "\n",
      "    accuracy                           0.29      6000\n",
      "   macro avg       0.11      0.10      0.07      6000\n",
      "weighted avg       0.21      0.29      0.18      6000\n",
      "\n"
     ]
    }
   ],
   "source": [
    "print(classification_report(y_val, y_pred_forest1))"
   ]
  },
  {
   "cell_type": "markdown",
   "metadata": {
    "id": "59EywRDRY20c"
   },
   "source": [
    "# Logistic Regression"
   ]
  },
  {
   "cell_type": "code",
   "execution_count": 62,
   "metadata": {
    "colab": {
     "base_uri": "https://localhost:8080/"
    },
    "executionInfo": {
     "elapsed": 1398,
     "status": "ok",
     "timestamp": 1612345268534,
     "user": {
      "displayName": "Panni Homolya",
      "photoUrl": "",
      "userId": "16634482512117413254"
     },
     "user_tz": -60
    },
    "id": "65oCPg-KY20c",
    "outputId": "dea63fbc-ded8-4181-e896-20ac43d3cf4e"
   },
   "outputs": [
    {
     "data": {
      "text/plain": [
       "LogisticRegression(class_weight='balanced')"
      ]
     },
     "execution_count": 62,
     "metadata": {},
     "output_type": "execute_result"
    }
   ],
   "source": [
    "logreg1 = LogisticRegression(class_weight=\"balanced\")\n",
    "logreg1.fit(x_train, y_train)"
   ]
  },
  {
   "cell_type": "code",
   "execution_count": 63,
   "metadata": {
    "id": "mJQd7CW1Y20c"
   },
   "outputs": [],
   "source": [
    "y_pred_logreg1 = logreg1.predict(x_val)"
   ]
  },
  {
   "cell_type": "code",
   "execution_count": 64,
   "metadata": {
    "colab": {
     "base_uri": "https://localhost:8080/"
    },
    "executionInfo": {
     "elapsed": 597,
     "status": "ok",
     "timestamp": 1612345276626,
     "user": {
      "displayName": "Panni Homolya",
      "photoUrl": "",
      "userId": "16634482512117413254"
     },
     "user_tz": -60
    },
    "id": "cHKKyfggQx5c",
    "outputId": "a66e0a7c-8ccf-4198-f9b7-f739ce94f775"
   },
   "outputs": [
    {
     "name": "stderr",
     "output_type": "stream",
     "text": [
      "C:\\Users\\PANNI\\Anaconda3\\lib\\site-packages\\sklearn\\metrics\\_classification.py:1245: UndefinedMetricWarning: Precision and F-score are ill-defined and being set to 0.0 in labels with no predicted samples. Use `zero_division` parameter to control this behavior.\n",
      "  _warn_prf(average, modifier, msg_start, len(result))\n",
      "C:\\Users\\PANNI\\Anaconda3\\lib\\site-packages\\sklearn\\metrics\\_classification.py:1245: UndefinedMetricWarning: Precision and F-score are ill-defined and being set to 0.0 in labels with no predicted samples. Use `zero_division` parameter to control this behavior.\n",
      "  _warn_prf(average, modifier, msg_start, len(result))\n",
      "C:\\Users\\PANNI\\Anaconda3\\lib\\site-packages\\sklearn\\metrics\\_classification.py:1245: UndefinedMetricWarning: Precision and F-score are ill-defined and being set to 0.0 in labels with no predicted samples. Use `zero_division` parameter to control this behavior.\n",
      "  _warn_prf(average, modifier, msg_start, len(result))\n"
     ]
    },
    {
     "name": "stdout",
     "output_type": "stream",
     "text": [
      "              precision    recall  f1-score   support\n",
      "\n",
      "           0       0.00      0.00      0.00        10\n",
      "           1       0.00      0.00      0.00        28\n",
      "           2       0.00      0.00      0.00       134\n",
      "           3       0.00      0.00      0.00       114\n",
      "           4       0.00      0.00      0.00       261\n",
      "           5       0.00      0.00      0.00       715\n",
      "           6       0.00      0.00      0.00       222\n",
      "           7       0.00      0.00      0.00       598\n",
      "           8       0.00      0.00      0.00      1343\n",
      "           9       0.00      0.00      0.00       225\n",
      "          10       0.13      1.00      0.22       754\n",
      "          11       0.00      0.00      0.00       312\n",
      "          12       0.00      0.00      0.00      1284\n",
      "\n",
      "    accuracy                           0.13      6000\n",
      "   macro avg       0.01      0.08      0.02      6000\n",
      "weighted avg       0.02      0.13      0.03      6000\n",
      "\n"
     ]
    }
   ],
   "source": [
    "print(classification_report(y_val, y_pred_logreg1))"
   ]
  },
  {
   "cell_type": "markdown",
   "metadata": {},
   "source": [
    "# Naive Bayes"
   ]
  },
  {
   "cell_type": "code",
   "execution_count": 65,
   "metadata": {},
   "outputs": [
    {
     "data": {
      "text/plain": [
       "MultinomialNB()"
      ]
     },
     "execution_count": 65,
     "metadata": {},
     "output_type": "execute_result"
    }
   ],
   "source": [
    "naiv_b1 = MultinomialNB()\n",
    "naiv_b1.fit(x_train, y_train)"
   ]
  },
  {
   "cell_type": "code",
   "execution_count": 66,
   "metadata": {},
   "outputs": [],
   "source": [
    "y_pred_naiv_b1 = naiv_b1.predict(x_val)"
   ]
  },
  {
   "cell_type": "code",
   "execution_count": 67,
   "metadata": {},
   "outputs": [
    {
     "name": "stderr",
     "output_type": "stream",
     "text": [
      "C:\\Users\\PANNI\\Anaconda3\\lib\\site-packages\\sklearn\\metrics\\_classification.py:1245: UndefinedMetricWarning: Precision and F-score are ill-defined and being set to 0.0 in labels with no predicted samples. Use `zero_division` parameter to control this behavior.\n",
      "  _warn_prf(average, modifier, msg_start, len(result))\n",
      "C:\\Users\\PANNI\\Anaconda3\\lib\\site-packages\\sklearn\\metrics\\_classification.py:1245: UndefinedMetricWarning: Precision and F-score are ill-defined and being set to 0.0 in labels with no predicted samples. Use `zero_division` parameter to control this behavior.\n",
      "  _warn_prf(average, modifier, msg_start, len(result))\n",
      "C:\\Users\\PANNI\\Anaconda3\\lib\\site-packages\\sklearn\\metrics\\_classification.py:1245: UndefinedMetricWarning: Precision and F-score are ill-defined and being set to 0.0 in labels with no predicted samples. Use `zero_division` parameter to control this behavior.\n",
      "  _warn_prf(average, modifier, msg_start, len(result))\n"
     ]
    },
    {
     "name": "stdout",
     "output_type": "stream",
     "text": [
      "              precision    recall  f1-score   support\n",
      "\n",
      "           0       0.00      0.00      0.00        10\n",
      "           1       0.00      0.00      0.00        28\n",
      "           2       0.00      0.00      0.00       134\n",
      "           3       0.00      0.00      0.00       114\n",
      "           4       0.00      0.00      0.00       261\n",
      "           5       0.27      0.09      0.13       715\n",
      "           6       0.00      0.00      0.00       222\n",
      "           7       0.57      0.03      0.05       598\n",
      "           8       0.29      0.63      0.40      1343\n",
      "           9       0.00      0.00      0.00       225\n",
      "          10       1.00      0.00      0.01       754\n",
      "          11       0.00      0.00      0.00       312\n",
      "          12       0.26      0.58      0.36      1284\n",
      "\n",
      "    accuracy                           0.28      6000\n",
      "   macro avg       0.18      0.10      0.07      6000\n",
      "weighted avg       0.34      0.28      0.19      6000\n",
      "\n"
     ]
    }
   ],
   "source": [
    "print(classification_report(y_val,y_pred_naiv_b1))"
   ]
  },
  {
   "cell_type": "markdown",
   "metadata": {},
   "source": [
    "# SVM"
   ]
  },
  {
   "cell_type": "code",
   "execution_count": 70,
   "metadata": {},
   "outputs": [
    {
     "name": "stderr",
     "output_type": "stream",
     "text": [
      "C:\\Users\\PANNI\\Anaconda3\\lib\\site-packages\\sklearn\\svm\\_base.py:986: ConvergenceWarning: Liblinear failed to converge, increase the number of iterations.\n",
      "  \"the number of iterations.\", ConvergenceWarning)\n"
     ]
    },
    {
     "data": {
      "text/plain": [
       "LinearSVC()"
      ]
     },
     "execution_count": 70,
     "metadata": {},
     "output_type": "execute_result"
    }
   ],
   "source": [
    "SVM1=svm.LinearSVC()\n",
    "SVM1.fit(x_train, y_train)"
   ]
  },
  {
   "cell_type": "code",
   "execution_count": 71,
   "metadata": {},
   "outputs": [],
   "source": [
    "y_pred_svm1 = SVM1.predict(x_val)"
   ]
  },
  {
   "cell_type": "code",
   "execution_count": 72,
   "metadata": {},
   "outputs": [
    {
     "name": "stderr",
     "output_type": "stream",
     "text": [
      "C:\\Users\\PANNI\\Anaconda3\\lib\\site-packages\\sklearn\\metrics\\_classification.py:1245: UndefinedMetricWarning: Precision and F-score are ill-defined and being set to 0.0 in labels with no predicted samples. Use `zero_division` parameter to control this behavior.\n",
      "  _warn_prf(average, modifier, msg_start, len(result))\n",
      "C:\\Users\\PANNI\\Anaconda3\\lib\\site-packages\\sklearn\\metrics\\_classification.py:1245: UndefinedMetricWarning: Precision and F-score are ill-defined and being set to 0.0 in labels with no predicted samples. Use `zero_division` parameter to control this behavior.\n",
      "  _warn_prf(average, modifier, msg_start, len(result))\n",
      "C:\\Users\\PANNI\\Anaconda3\\lib\\site-packages\\sklearn\\metrics\\_classification.py:1245: UndefinedMetricWarning: Precision and F-score are ill-defined and being set to 0.0 in labels with no predicted samples. Use `zero_division` parameter to control this behavior.\n",
      "  _warn_prf(average, modifier, msg_start, len(result))\n"
     ]
    },
    {
     "name": "stdout",
     "output_type": "stream",
     "text": [
      "              precision    recall  f1-score   support\n",
      "\n",
      "           0       0.00      0.00      0.00        10\n",
      "           1       0.00      0.00      0.00        28\n",
      "           2       0.00      0.00      0.00       134\n",
      "           3       0.00      0.00      0.00       114\n",
      "           4       0.00      0.00      0.00       261\n",
      "           5       0.00      0.00      0.00       715\n",
      "           6       0.00      0.00      0.00       222\n",
      "           7       0.00      0.00      0.00       598\n",
      "           8       0.22      1.00      0.37      1343\n",
      "           9       0.00      0.00      0.00       225\n",
      "          10       0.00      0.00      0.00       754\n",
      "          11       0.00      0.00      0.00       312\n",
      "          12       0.00      0.00      0.00      1284\n",
      "\n",
      "    accuracy                           0.22      6000\n",
      "   macro avg       0.02      0.08      0.03      6000\n",
      "weighted avg       0.05      0.22      0.08      6000\n",
      "\n"
     ]
    }
   ],
   "source": [
    "print(classification_report(y_val,y_pred_svm1))"
   ]
  },
  {
   "cell_type": "code",
   "execution_count": null,
   "metadata": {},
   "outputs": [],
   "source": []
  }
 ],
 "metadata": {
  "colab": {
   "name": "text_emotion2_colab.ipynb",
   "provenance": []
  },
  "kernelspec": {
   "display_name": "Python 3",
   "language": "python",
   "name": "python3"
  },
  "language_info": {
   "codemirror_mode": {
    "name": "ipython",
    "version": 3
   },
   "file_extension": ".py",
   "mimetype": "text/x-python",
   "name": "python",
   "nbconvert_exporter": "python",
   "pygments_lexer": "ipython3",
   "version": "3.7.4"
  }
 },
 "nbformat": 4,
 "nbformat_minor": 1
}
